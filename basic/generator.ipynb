{
 "cells": [
  {
   "cell_type": "markdown",
   "metadata": {},
   "source": [
    "1 创建生成器"
   ]
  },
  {
   "cell_type": "markdown",
   "metadata": {},
   "source": [
    "1.2 创建生成器<生成器函数><yied阻断当前的函数执行, next()或__next__()让函数继续执行>"
   ]
  },
  {
   "cell_type": "code",
   "execution_count": null,
   "metadata": {},
   "outputs": [],
   "source": [
    "def test():\n",
    "    for i in range(1, 5):\n",
    "        yield i\n",
    "gene = test()\n",
    "print(gene)\n",
    "\n",
    "print(next(gene))\n",
    "print(next(gene))\n",
    "print(gene.__next__())\n",
    "print(gene.__next__())\n",
    "# print(gene.__next__())    # 执行完成后抛出StopIteration"
   ]
  },
  {
   "cell_type": "markdown",
   "metadata": {},
   "source": [
    "1.1 创建生成器<生成器表达式>"
   ]
  },
  {
   "cell_type": "code",
   "execution_count": null,
   "metadata": {},
   "outputs": [],
   "source": [
    "# lst = [i for i in range(1, 10000000) if i % 2 == 0]\n",
    "# print(lst)\n",
    "\n",
    "gene = (i for i in range(1, 10000000) if i % 2 == 0)\n",
    "print(gene)\n",
    "print(next(gene))\n",
    "print(next(gene))\n",
    "print(gene.__next__())\n",
    "\n",
    "for i in gene:\n",
    "    print(i)"
   ]
  },
  {
   "cell_type": "markdown",
   "metadata": {},
   "source": [
    "参考：\n",
    "1.还不理解Python生成器（Generator）吗？赶紧看看这个课程,bilibili,  蒙娜丽宁https://www.bilibili.com/video/BV1n5411V72s/?spm_id_from=333.788.recommend_more_video.2"
   ]
  }
 ],
 "metadata": {
  "interpreter": {
   "hash": "4fbfea1dd5a17f80dff8df3ba641602c59e31ce1a55b82aea18e6894ff3c71a7"
  },
  "kernelspec": {
   "display_name": "Python 3.9.12 64-bit",
   "language": "python",
   "name": "python3"
  },
  "language_info": {
   "codemirror_mode": {
    "name": "ipython",
    "version": 3
   },
   "file_extension": ".py",
   "mimetype": "text/x-python",
   "name": "python",
   "nbconvert_exporter": "python",
   "pygments_lexer": "ipython3",
   "version": "3.9.12"
  },
  "orig_nbformat": 4
 },
 "nbformat": 4,
 "nbformat_minor": 2
}
