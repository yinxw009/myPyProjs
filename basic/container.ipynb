{
 "cells": [
  {
   "cell_type": "markdown",
   "metadata": {},
   "source": [
    "6. 自定义容器"
   ]
  },
  {
   "cell_type": "markdown",
   "metadata": {},
   "source": [
    "5. set集合"
   ]
  },
  {
   "cell_type": "markdown",
   "metadata": {},
   "source": [
    "5.1 定义集合"
   ]
  },
  {
   "cell_type": "markdown",
   "metadata": {},
   "source": [
    "5.1.2 set()创建集合"
   ]
  },
  {
   "cell_type": "code",
   "execution_count": null,
   "metadata": {},
   "outputs": [],
   "source": [
    "set1 = set(\"c.biancheng.net\")\n",
    "set2 = set([1,2,3,4,5])\n",
    "set3 = set((1,2,3,4,5))\n",
    "print(\"set1:\",set1, \"set2:\", set2, \"set3:\", set3)"
   ]
  },
  {
   "cell_type": "markdown",
   "metadata": {},
   "source": [
    "5.1.1 {}创建集合"
   ]
  },
  {
   "cell_type": "code",
   "execution_count": null,
   "metadata": {},
   "outputs": [],
   "source": [
    "set = {1, 2, 1, (1,2,3), 'c', 'c', 'Jack', ('age', 18)}             #集合元素可以是数据类型、字符串、元组\n",
    "# set = {1, 2, 1, (1,2,3), 'c', 'c', 'Jack', ['age', 18]}           #集合元素不可是列表\n",
    "# set = {1, 2, 1, (1,2,3), 'c', 'c', 'Jack', {'age', 18}}           #集合元素不可是集合\n",
    "# set = {1, 2, 1, (1,2,3), 'c', 'c', 'Jack', {'age':18}}            #集合元素不可是字典\n",
    "set1 = {1, 'c', 1, (1,2,3), \"c\"}\n",
    "print(set, set1)"
   ]
  },
  {
   "cell_type": "markdown",
   "metadata": {},
   "source": [
    "4. dictionary字典"
   ]
  },
  {
   "cell_type": "markdown",
   "metadata": {},
   "source": [
    "4.4 查询字典"
   ]
  },
  {
   "cell_type": "markdown",
   "metadata": {},
   "source": [
    "4.4.2 字典内置方法<获取数据><keys(), values(), items()>"
   ]
  },
  {
   "cell_type": "code",
   "execution_count": null,
   "metadata": {},
   "outputs": [],
   "source": [
    "dct = {'数学': 95, '语文': 89, '英语': 90}\n",
    "print(dct.keys())           # keys() 方法用于返回字典中的所有键（key）\n",
    "print(dct.values())         # values() 方法用于返回字典中所有键对应的值（value）\n",
    "print(dct.items())          # items() 用于返回字典中所有的键值对（key-value）\n",
    "\n",
    "key = list(dct.keys())      # Python3中, list函数使用返回数据\n",
    "print(key)\n",
    "\n",
    "for key in dct.keys():      # Python3中, for in 循环遍历返回值\n",
    "    print(key, end=' ')\n",
    "print(\"\\n---------------\")\n",
    "for value in dct.values():\n",
    "    print(value, end=' ')\n",
    "print(\"\\n---------------\")\n",
    "for key,value in dct.items():\n",
    "    print(\"key:\",key,\" value:\",value, end=' ')"
   ]
  },
  {
   "cell_type": "markdown",
   "metadata": {},
   "source": [
    "4.4.1 访问字典元素"
   ]
  },
  {
   "cell_type": "code",
   "execution_count": null,
   "metadata": {},
   "outputs": [],
   "source": [
    "dic = {'数学': 95, '语文': 89, '英语': 90}\n",
    "print('数学' in dic, '数学' not in dic)     # 判断dic是否包含名为'数学'的key\n",
    "print('物理' in dic, '物理' not in dic)     # 判断dic是否包含名为'物理'的key"
   ]
  },
  {
   "cell_type": "code",
   "execution_count": null,
   "metadata": {},
   "outputs": [],
   "source": [
    "dic = dict(two=0.65, one=88, three=100, four=-59)\n",
    "print( dic.get('one') )                            # get() 方法\n",
    "print( dic.get('five', '该键不存在') )              # 定义键不存在时返回值"
   ]
  },
  {
   "cell_type": "code",
   "execution_count": null,
   "metadata": {},
   "outputs": [],
   "source": [
    "tup = (['two',26], ['one',88], ['three',100], ['four',-59])\n",
    "dic = dict(tup)\n",
    "print(dic['one'])           # 键存在\n",
    "# print(dic['five'])        # 键不存在，抛异常"
   ]
  },
  {
   "cell_type": "markdown",
   "metadata": {},
   "source": [
    "4.3 修改字典"
   ]
  },
  {
   "cell_type": "markdown",
   "metadata": {},
   "source": [
    "4.3.2 修改字典内置方法<update(), pop(), popitem()>"
   ]
  },
  {
   "cell_type": "code",
   "execution_count": null,
   "metadata": {},
   "outputs": [],
   "source": [
    "dic = {'数学': 95, '语文': 89, '英语': 90, '化学': 83, '生物': 98, '物理': 89}\n",
    "print(dic)\n",
    "dic.pop('化学')\n",
    "print(dic)\n",
    "dic.popitem()\n",
    "print(dic)"
   ]
  },
  {
   "cell_type": "markdown",
   "metadata": {},
   "source": [
    "4.3.1 修改字典元素<key索引、del>"
   ]
  },
  {
   "cell_type": "code",
   "execution_count": null,
   "metadata": {},
   "outputs": [],
   "source": [
    "dic = {'数学':95}\n",
    "print(dic)\n",
    "dic['语文'] = 89        # 添加新键值对\n",
    "print(dic)\n",
    "dic['英语'] = 90        # 再次添加新键值对\n",
    "print(dic)\n",
    "\n",
    "dic['数学'] = 100       # 修改key'数学'值为100\n",
    "print(dic)\n",
    "\n",
    "del dic['语文']         # 删除key'数学'，及其值89\n",
    "print(dic)\n",
    "del dic['英语']         # 删除key'英语'，及其值90\n",
    "print(dic)"
   ]
  },
  {
   "cell_type": "markdown",
   "metadata": {},
   "source": [
    "4.2 删除字典"
   ]
  },
  {
   "cell_type": "code",
   "execution_count": null,
   "metadata": {},
   "outputs": [],
   "source": [
    "dic = dict(one=88)\n",
    "print(dic)\n",
    "del dic\n",
    "# print(dic)            # 字典dic已删除"
   ]
  },
  {
   "cell_type": "markdown",
   "metadata": {},
   "source": [
    "4.1 定义字典"
   ]
  },
  {
   "cell_type": "markdown",
   "metadata": {},
   "source": [
    "4.1.3 dict()创建字典"
   ]
  },
  {
   "cell_type": "code",
   "execution_count": null,
   "metadata": {},
   "outputs": [],
   "source": [
    "keys = ['one', 'two', 'three']      # 还可以是字符串或元组\n",
    "values = [1, 2, 3]                  # 还可以是字符串或元组\n",
    "dict0 = dict(zip(keys, values))\n",
    "print(dict0)\n",
    "\n",
    "lstKey = ['a', 'b', 'c']; \n",
    "lstVaule = [1, 2, 3]; \n",
    "dict1 = dict(zip(lstKey, lstVaule))\n",
    "print(dict1)"
   ]
  },
  {
   "cell_type": "code",
   "execution_count": null,
   "metadata": {},
   "outputs": [],
   "source": [
    "lst0 = [('two',2), ('one',1), ('three',3)]      # 列表元素为包含2个元素的元组\n",
    "lst1 = [['two',2], ['one',1], ['three',3]]      # 列表元素为包含2个元素的列表\n",
    "lst2 = (('two',2), ('one',1), ('three',3))      # 元组元素为包含2个元素的元组\n",
    "lst3 = (['two',2], ['one',1], ['three',3])      # 元组元素为包含2个元的列表\n",
    "dic0 = dict(lst0)                      #列表作为dit参数\n",
    "dic1 = dict(lst1)\n",
    "dic2 = dict(lst2)                      #元组作为dit参数\n",
    "dic3 = dict(lst3)\n",
    "print(dic0, dic1, dic2, dic3)"
   ]
  },
  {
   "cell_type": "code",
   "execution_count": null,
   "metadata": {},
   "outputs": [],
   "source": [
    "dic0 = dict(str1='value1', str2='value2', str3='value3')\n",
    "print(dic0)"
   ]
  },
  {
   "cell_type": "markdown",
   "metadata": {},
   "source": [
    "4.1.2 fromkeys()创建字典"
   ]
  },
  {
   "cell_type": "code",
   "execution_count": null,
   "metadata": {},
   "outputs": [],
   "source": [
    "knowledgeLst = ['语文', '数学', '英语']\n",
    "scoresDct = dict.fromkeys(knowledgeLst, 60)\n",
    "print(scoresDct)\n",
    "dict1 = dict.fromkeys(['a','b', 'c'], [1,2])\n",
    "print(dict1)\n"
   ]
  },
  {
   "cell_type": "markdown",
   "metadata": {},
   "source": [
    "4.1.1 {}创建字典"
   ]
  },
  {
   "cell_type": "code",
   "execution_count": null,
   "metadata": {},
   "outputs": [],
   "source": [
    "dict0 = {'数学': 95, '英语': 92, '语文': 84}      # 使用字符串作为key\n",
    "print(dict0)\n",
    "dict1 = {(20, 30): 'great', 30: [1,2,3]}        # 使用元组和数字作为key\n",
    "print(dict1)\n",
    "dict2 = {}                                      # 创建空字典\n",
    "print(dict2)\n",
    "\n",
    "# dict3 = {{'20':30}: 'great'}                  # 不可使用列表、集合、字典作为key"
   ]
  },
  {
   "cell_type": "markdown",
   "metadata": {},
   "source": [
    "3. tuple元组"
   ]
  },
  {
   "cell_type": "markdown",
   "metadata": {},
   "source": [
    "3.1 定义元组"
   ]
  },
  {
   "cell_type": "code",
   "execution_count": null,
   "metadata": {},
   "outputs": [],
   "source": [
    "#创建的元组中只有一个字符串类型的元素时，该元素后面必须要加一个逗号',', 否则会将它视为字符串。\n",
    "strA = (\"http:\",)\n",
    "strB = \"http:\",\n",
    "print('type(strA):', type(strA), strA, 'type(strB):', type(strB), strB)\n",
    "\n",
    "strC = (\"http:\")\n",
    "print('type(strC):', type(strC), strC)\n"
   ]
  },
  {
   "cell_type": "markdown",
   "metadata": {},
   "source": [
    "3.1.3  tuple()创建元组"
   ]
  },
  {
   "cell_type": "code",
   "execution_count": null,
   "metadata": {},
   "outputs": [],
   "source": [
    "tup1 = tuple(\"hello\")                                   #将字符串转换成元组\n",
    "print('tuple(str):', tup1)\n",
    "\n",
    "tup2 = tuple(['Python', 'Java', 'C++', 'JavaScript'])   #将列表转换成元组\n",
    "print('tuple(lst):', tup2)\n",
    "\n",
    "tup3 = tuple({'a':100, 'b':42, 'c':9})                  #将字典转换成元组\n",
    "print('tuple(dict):', tup3)\n",
    "\n",
    "tup4 = tuple(range(1, 6))                               #将区间转换成元组\n",
    "print('tuple(range):', tup4)\n",
    "\n",
    "print(tuple())                                          #创建空元组"
   ]
  },
  {
   "cell_type": "markdown",
   "metadata": {},
   "source": [
    "3.1.2 ,创建元组"
   ]
  },
  {
   "cell_type": "code",
   "execution_count": null,
   "metadata": {},
   "outputs": [],
   "source": [
    "tplNum = 1, \n",
    "tplCourse = \"Python教程\", \"http://c.biancheng.net/python/\"         #用逗号将元素隔开，Python将视为元组\n",
    "tplStr = \"Python\", 19, [1,2], ('c',2.0)\n",
    "print('type(tplNum):', type(tplNum), tplNum)\n",
    "print('type(course):', type(tplCourse), tplCourse)\n",
    "print('type(tplStr):', type(tplStr), tplStr)"
   ]
  },
  {
   "cell_type": "markdown",
   "metadata": {},
   "source": [
    "3.1.1 ()创建元组"
   ]
  },
  {
   "cell_type": "code",
   "execution_count": null,
   "metadata": {},
   "outputs": [],
   "source": [
    "tplNum = (7, 14, 21, 28, 35)                            # 使用()创建\n",
    "tplCourse = (\"Python\", \"教程\", \"http://c.biancheng.net/python/\")\n",
    "tplStr = ( \"Python\", 19, [1,2], ('c',2.0) )\n",
    "print(tplNum, tplCourse, tplStr)"
   ]
  },
  {
   "cell_type": "markdown",
   "metadata": {},
   "source": [
    "2. list列表"
   ]
  },
  {
   "cell_type": "markdown",
   "metadata": {},
   "source": [
    "2.5 列表操作<增删改查>"
   ]
  },
  {
   "cell_type": "markdown",
   "metadata": {},
   "source": [
    "2.5.6 二维列表切片\n"
   ]
  },
  {
   "cell_type": "code",
   "execution_count": null,
   "metadata": {},
   "outputs": [],
   "source": [
    "lst = [[0,1,2,3,4],[55,66,77,88,99],['a','b','c','d','e'],\"NMAEWD\"]\n",
    "# print(\"lst = \",lst)\n",
    "print(\"lst[1][2]=\",lst[1][2],\"lst[2][3]=\",lst[2][3])\n",
    "print(\"lst[3][1:5]=\",lst[3][1:5])\n",
    "print(\"lst[3][1:5]=\",lst[3][0:5:2])\n",
    "print(\"lst[1:3][1:3]=\",lst[1:3][0:3:2])     #切片只可正对一维列表\n",
    "# print(\"lst[1:3][0:2]=\",lst[1:3][0:2])"
   ]
  },
  {
   "cell_type": "markdown",
   "metadata": {},
   "source": [
    "2.5.1 按顺序全部访问列表：for循环\n"
   ]
  },
  {
   "cell_type": "code",
   "execution_count": null,
   "metadata": {},
   "outputs": [],
   "source": [
    "lst = [1,2,4,8,16,32]\n",
    "for var in lst:                     #直接迭代lst内容\n",
    "    print(\"var = \", var)\n",
    "for var in range(len(lst)):         #按索引访问\n",
    "    print(\"lst[%d] = %d\" %(var, lst[var]))\n",
    "\n",
    "lst = ['age', 18]\n",
    "print('lst:', lst)"
   ]
  },
  {
   "cell_type": "code",
   "execution_count": null,
   "metadata": {},
   "outputs": [],
   "source": [
    "lst = [1, 4, 'be']\n",
    "lst.append(16)           # append()方法仅适用列表\n",
    "print(lst)"
   ]
  },
  {
   "cell_type": "markdown",
   "metadata": {},
   "source": [
    "2.3 列表推导式"
   ]
  },
  {
   "cell_type": "markdown",
   "metadata": {},
   "source": [
    "2.3.6 二维列表推到\n"
   ]
  },
  {
   "cell_type": "code",
   "execution_count": null,
   "metadata": {},
   "outputs": [],
   "source": [
    "lst = [[x*3, y**2, z+1] for x in range(4) for y in range(3) for z in range(5) if (x*3 + y**2 + z) % 2 == 1]\n",
    "print(\"lst=\",lst)"
   ]
  },
  {
   "cell_type": "markdown",
   "metadata": {},
   "source": [
    "2.3.3 包含循环嵌套和判断\n"
   ]
  },
  {
   "cell_type": "code",
   "execution_count": null,
   "metadata": {},
   "outputs": [],
   "source": [
    "lst4 = [[1,2,3],[4,5,6],[7,8,9]]\n",
    "lst3 = [x*x for y in lst4 for x in y if x % 2 == 0]\n",
    "print(\"lst3=\",lst3)"
   ]
  },
  {
   "cell_type": "markdown",
   "metadata": {},
   "source": [
    "2.3.2 包含循环和判断\n"
   ]
  },
  {
   "cell_type": "code",
   "execution_count": null,
   "metadata": {},
   "outputs": [],
   "source": [
    "lst2 = [x*x for x in range(10) if x % 2 == 0]\n",
    "print(\"lst2=\",lst2)"
   ]
  },
  {
   "cell_type": "markdown",
   "metadata": {},
   "source": [
    "2.3.1 只包含循环\n"
   ]
  },
  {
   "cell_type": "code",
   "execution_count": null,
   "metadata": {},
   "outputs": [],
   "source": [
    "lst1 = [x*x for x in range(10)]\n",
    "print(lst1) \n",
    "lst1 = [n for n in range(0, 10) if (n**2 + 1) % 5 == 0]\n",
    "print(\"lst1=\",lst1)"
   ]
  },
  {
   "cell_type": "markdown",
   "metadata": {},
   "source": [
    "2.2 列表内置方法<增删改查>"
   ]
  },
  {
   "cell_type": "code",
   "execution_count": null,
   "metadata": {},
   "outputs": [],
   "source": [
    "lst = ['Python', 'C++', 'Java']\n",
    "lst.insert(1, 'C')                      # insert插入单个元素\n",
    "print(lst)\n",
    "lst.insert(2, ('C#', 'Go'))             # 插入元组，整个元祖被当成一个元素\n",
    "print(lst)\n",
    "lst.insert(3, ['Ruby', 'SQL'])          # 插入列表，整个列表被当成一个元素\n",
    "print(lst)\n",
    "lst.insert(0, \"http:\")                  #插入字符串，整个字符串被当成一个元素\n",
    "print(lst)"
   ]
  },
  {
   "cell_type": "code",
   "execution_count": null,
   "metadata": {},
   "outputs": [],
   "source": [
    "lst = ['Python', 'C++', 'Java']\n",
    "lst.extend('C')                             # extend追加单个元素，同append\n",
    "print(lst)\n",
    "lst.extend(('JavaScript', 'C#', 'Go'))      # 追加元组，把元祖拆分成多个元素添加\n",
    "print(lst)\n",
    "lst.extend(['Ruby', 'SQL'])                 # 追加列表，把列表拆分成多个元素添加\n",
    "print(lst)\n",
    "\n",
    "del lst[1:9:3]                              # del方法：根据索引值删除元素\n",
    "print(lst)"
   ]
  },
  {
   "cell_type": "code",
   "execution_count": null,
   "metadata": {},
   "outputs": [],
   "source": [
    "lst = ['Python', 'C++', 'Java']\n",
    "lst.append('PHP')                           # append方法仅可追加单个元素\n",
    "print(lst)\n",
    "lst.append(('JavaScript', 'C#', 'Go'))      # 追加元组，整个元组被当成一个元素\n",
    "print(lst)\n",
    "lst.append(['Ruby', 'SQL'])                 # 追加列表，整个列表也被当成一个元素\n",
    "print(lst)"
   ]
  },
  {
   "cell_type": "markdown",
   "metadata": {},
   "source": [
    "2.1 定义列表"
   ]
  },
  {
   "cell_type": "markdown",
   "metadata": {},
   "source": [
    "2.1.2 list()创建列表"
   ]
  },
  {
   "cell_type": "code",
   "execution_count": null,
   "metadata": {},
   "outputs": [],
   "source": [
    "lst = list({'a':100, 'b':42, 'c':9})        #字典创建列表，只保留key\n",
    "print(lst)"
   ]
  },
  {
   "cell_type": "markdown",
   "metadata": {},
   "source": [
    "2.1.1 []创建列表"
   ]
  },
  {
   "cell_type": "code",
   "execution_count": null,
   "metadata": {},
   "outputs": [],
   "source": [
    "num = [1, 2, 3, 4, 5, 6, 7]\n",
    "name = [\"C语言中文网\", \"http://c.biancheng.net\"]\n",
    "program = [\"C语言\", \"Python\", \"Java\"]\n",
    "emptylist = [ ]"
   ]
  },
  {
   "cell_type": "markdown",
   "metadata": {},
   "source": [
    "1. 通用序列操作"
   ]
  },
  {
   "cell_type": "markdown",
   "metadata": {},
   "source": [
    "1.6 通用内置方法"
   ]
  },
  {
   "cell_type": "markdown",
   "metadata": {},
   "source": [
    "1.5 成员资格<运算符in来检测指定元素是否包含于序列>"
   ]
  },
  {
   "cell_type": "code",
   "execution_count": null,
   "metadata": {},
   "outputs": [],
   "source": [
    "tpl = \"\", 19, [1,2], \n",
    "lst = [1, 4, 'be']\n",
    "str = \"http:\"\n",
    "set = {1, 2, 1, 'g'}\n",
    "dic = {'age':18}\n",
    "\n",
    "print('19 in tpl:', 19 in tpl)\n",
    "print(\"'be' in lst:\", 'be' in lst)\n",
    "print(\"'ttp' in str:\", 'ttp' in str)\n",
    "print(\"'g' in set:\", 'g' in set)\n",
    "print(\"'age' in dic:\", 'age' in dic)    # 判断字典dic是否包含名为'age'的key"
   ]
  },
  {
   "cell_type": "markdown",
   "metadata": {},
   "source": [
    "1.4 乘法<用“*”来进行乘法运算><列表、元组、字符串支持>"
   ]
  },
  {
   "cell_type": "code",
   "execution_count": null,
   "metadata": {},
   "outputs": [],
   "source": [
    "tpl = \"\", 19, [1,2],\n",
    "print('tpl:', tpl, 'tpl*3:', tpl * 3 )\n",
    "\n",
    "lst = [1, 4]\n",
    "print('lst:', lst, 'lst*3:', lst * 3 )\n",
    "\n",
    "str = \"http:\"\n",
    "print('str:', str, 'str*3:', str * 3 )\n",
    "\n",
    "set = {1, 2, 1}\n",
    "# print('set:', set, 'set*3:', set * 3 )            # 集合不支持*操作\n",
    "\n",
    "dict = {'age':18}\n",
    "# print('dict:', dict, 'dict*3:', dict * 3 )        # 字典不支持*操作"
   ]
  },
  {
   "cell_type": "markdown",
   "metadata": {},
   "source": [
    "1.3 序列相加<用“+”来拼接相同序列><列表、元组、字符串支持>"
   ]
  },
  {
   "cell_type": "code",
   "execution_count": null,
   "metadata": {},
   "outputs": [],
   "source": [
    "tpl1 = \"Python\", 19, [1,2], \n",
    "tpl2 = ('c',2.0), 't', 2, ''\n",
    "print(\"tpl : \", tpl1, tpl2, tpl1 + tpl2)\n",
    "\n",
    "lst1 = [1, 4, 16, 64]\n",
    "lst2 = [2, 8, 32, 128]\n",
    "print(\"lst : \", lst1, lst2, lst1 + lst2)\n",
    "\n",
    "str1 = \"http://\"\n",
    "str2 = \"c.biancheng.net/python/\"\n",
    "print(\"str : \", str1, str2, str1 + str2)\n",
    "\n",
    "set1 = {1, 2, 1, (1,2,3), 'c'}\n",
    "set2 = {'c', 'Jack', ('age', 18)}\n",
    "# print(\"set : \", set1, set2, set1 + set2)              # 集合不支持+操作，并集采用union()方法\n",
    "\n",
    "dict1 = {'occupation':'accountant','Comp':'saic'}\n",
    "dict2 = {'Name':'Jack', 'age':18}\n",
    "# print(\"dict : \", dict1, dict2, dict1 + dict2)         # 字典不支持+操作，合并采用dict()方法"
   ]
  },
  {
   "cell_type": "markdown",
   "metadata": {},
   "source": [
    "1.2 切片<在序列中切一块><列表、元组、字符串有序序列支持>"
   ]
  },
  {
   "cell_type": "code",
   "execution_count": null,
   "metadata": {},
   "outputs": [],
   "source": [
    "tpl = \"Python\", 19, [1,2], ('c',2.0), 't', 2, {'a', 5, 3.2}, ''\n",
    "lst = [1, 2, 4, 8, 16, 32, 64, 128]\n",
    "str = \"http://c.biancheng.net/python/\"\n",
    "print(\"str[1:8:2] = \",str[1:20:2])          # [start : end : step], 步长2，每隔2个取第1个。左闭右开\n",
    "print(\"lst[: :-2] = \",lst[::-2])            # [起始索引:终止索引:步长]\n",
    "print(\"tpl[: :-1] = \", tpl[::-1])           # 负号：方向从大到小\n",
    "print(\"str[1: ] = \", str[1:])               # 空索引将根据前两个索引所处位置，默认前后端点\n",
    "print(\"lst[ :3] = \", lst[:3])\n",
    "print(\"tpl[1:4] = \", tpl[1:4])              # 左闭右开区间，含头不含尾"
   ]
  },
  {
   "cell_type": "markdown",
   "metadata": {},
   "source": [
    "1.1 索引<根据元素下标，返回序列中对应元素><列表、元组、字符串有序序列支持>"
   ]
  },
  {
   "cell_type": "code",
   "execution_count": null,
   "metadata": {},
   "outputs": [],
   "source": [
    "num5 = input('Input any char:')[5]\n",
    "print(num5)"
   ]
  },
  {
   "cell_type": "code",
   "execution_count": null,
   "metadata": {},
   "outputs": [],
   "source": [
    "tpl = ( \"Python\", 19, [1,2], ('c',2.0), {'age':20}, 15.3)\n",
    "lst = [1,2,3,4,5]\n",
    "str = 'HelloWorld'\n",
    "dict = {'Name':'Mike', 'age':20, 'occupation':'accountant', }\n",
    "set = {1, 2, 1, (1,2,3), 'c', 'c', 'Jack', ('age', 18)}\n",
    "print(\"tpl[0] = \", tpl[0])\n",
    "print(\"lst[-1] = \", lst[-1])\n",
    "print(\"str[-5] = \", str[-5])\n",
    "# print(\"dict[2] = \", dict[2])          # 字典不支持索引、切片\n",
    "# print(\"set[3] = \", set[3])            # 集合不支持索引、切片"
   ]
  },
  {
   "cell_type": "markdown",
   "metadata": {},
   "source": [
    "参考：\n",
    "1. Python中的容器, 知乎, 吾往\n",
    "   https://zhuanlan.zhihu.com/p/41188891"
   ]
  }
 ],
 "metadata": {
  "interpreter": {
   "hash": "4fbfea1dd5a17f80dff8df3ba641602c59e31ce1a55b82aea18e6894ff3c71a7"
  },
  "kernelspec": {
   "display_name": "Python 3.9.12 64-bit",
   "language": "python",
   "name": "python3"
  },
  "language_info": {
   "codemirror_mode": {
    "name": "ipython",
    "version": 3
   },
   "file_extension": ".py",
   "mimetype": "text/x-python",
   "name": "python",
   "nbconvert_exporter": "python",
   "pygments_lexer": "ipython3",
   "version": "3.9.12"
  },
  "orig_nbformat": 4
 },
 "nbformat": 4,
 "nbformat_minor": 2
}
