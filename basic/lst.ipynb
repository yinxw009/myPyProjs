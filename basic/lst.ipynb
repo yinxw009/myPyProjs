{
 "cells": [
  {
   "cell_type": "markdown",
   "metadata": {},
   "source": [
    "3. 列表推导式"
   ]
  },
  {
   "cell_type": "markdown",
   "metadata": {},
   "source": [
    "3.6. 二维列表\n"
   ]
  },
  {
   "cell_type": "code",
   "execution_count": null,
   "metadata": {},
   "outputs": [],
   "source": [
    "lst = [[x*3, y**2, z+1] for x in range(4) for y in range(3) for z in range(5) if (x*3 + y**2 + z) % 2 == 1]\n",
    "print(\"lst=\",lst)"
   ]
  },
  {
   "cell_type": "markdown",
   "metadata": {},
   "source": [
    "3.3 包含循环嵌套和判断\n"
   ]
  },
  {
   "cell_type": "code",
   "execution_count": null,
   "metadata": {},
   "outputs": [],
   "source": [
    "lst4 = [[1,2,3],[4,5,6],[7,8,9]]\n",
    "lst3 = [x*x for y in lst4 for x in y if x % 2 == 0]\n",
    "print(\"lst3=\",lst3)"
   ]
  },
  {
   "cell_type": "markdown",
   "metadata": {},
   "source": [
    "3.2 包含循环和判断\n"
   ]
  },
  {
   "cell_type": "code",
   "execution_count": null,
   "metadata": {},
   "outputs": [],
   "source": [
    "lst2 = [x*x for x in range(10) if x % 2 == 0]\n",
    "print(\"lst2=\",lst2)"
   ]
  },
  {
   "cell_type": "markdown",
   "metadata": {},
   "source": [
    "3.1 只包含循环\n"
   ]
  },
  {
   "cell_type": "code",
   "execution_count": null,
   "metadata": {},
   "outputs": [],
   "source": [
    "lst1 = [x*x for x in range(10)]\n",
    "print(lst1) \n",
    "lst1 = [n for n in range(0, 10) if (n**2 + 1) % 5 == 0]\n",
    "print(\"lst1=\",lst1)"
   ]
  },
  {
   "cell_type": "markdown",
   "metadata": {},
   "source": [
    "2. 列表内置方法"
   ]
  },
  {
   "cell_type": "markdown",
   "metadata": {},
   "source": [
    "1. 列表基础操作<增删改查>"
   ]
  },
  {
   "cell_type": "markdown",
   "metadata": {},
   "source": [
    "1.6 二维列表切片\n"
   ]
  },
  {
   "cell_type": "code",
   "execution_count": null,
   "metadata": {},
   "outputs": [],
   "source": [
    "lst = [[0,1,2,3,4],[55,66,77,88,99],['a','b','c','d','e'],\"NMAEWD\"]\n",
    "# print(\"lst = \",lst)\n",
    "print(\"lst[1][2]=\",lst[1][2],\"lst[2][3]=\",lst[2][3])\n",
    "print(\"lst[3][1:5]=\",lst[3][1:5])\n",
    "print(\"lst[3][1:5]=\",lst[3][0:5:2])\n",
    "print(\"lst[1:3][1:3]=\",lst[1:3][0:3:2])     #切片只可正对一维列表\n",
    "# print(\"lst[1:3][0:2]=\",lst[1:3][0:2])"
   ]
  },
  {
   "cell_type": "markdown",
   "metadata": {},
   "source": [
    "1.3 列表切片[起始索引:终止索引:步长]"
   ]
  },
  {
   "cell_type": "code",
   "execution_count": null,
   "metadata": {},
   "outputs": [],
   "source": [
    "lst = [1,2,4,8,16,32]\n",
    "print(\"lst[: :-2] = \",lst[::-2])\n",
    "print(\"lst[: :-1] = \",lst[::-1])          #负号：方向从大到小\n",
    "print(\"lst[1:6:2] = \",lst[1:6:2])         #步长2，每隔2个取第1个\n",
    "print(\"lst[1:   ] = \",lst[1:])\n",
    "print(\"lst[ :3  ] = \",lst[:3])\n",
    "print(\"lst[1:4  ] = \",lst[1:4])           #左闭右开区间，含头不含尾"
   ]
  },
  {
   "cell_type": "markdown",
   "metadata": {},
   "source": [
    "1.2 按下标索引访问某一个元素\n"
   ]
  },
  {
   "cell_type": "code",
   "execution_count": null,
   "metadata": {},
   "outputs": [],
   "source": [
    "lst = [1,2,3,4,5]\n",
    "print(\"lst[0] = \",lst[0])\n",
    "print(\"lst[-1] = \",lst[-1])\n",
    "print(\"lst[-4] = \",lst[-4])"
   ]
  },
  {
   "cell_type": "markdown",
   "metadata": {},
   "source": [
    "1.1 按顺序全部访问列表：for循环\n"
   ]
  },
  {
   "cell_type": "code",
   "execution_count": null,
   "metadata": {},
   "outputs": [],
   "source": [
    "lst = [1,2,4,8,16,32]\n",
    "for var in lst:                     #直接迭代lst内容\n",
    "    print(\"var = \", var)\n",
    "for var in range(len(lst)):         #按索引访问\n",
    "    print(\"lst[%d] = %d\" %(var, lst[var]))\n"
   ]
  }
 ],
 "metadata": {
  "interpreter": {
   "hash": "4fbfea1dd5a17f80dff8df3ba641602c59e31ce1a55b82aea18e6894ff3c71a7"
  },
  "kernelspec": {
   "display_name": "Python 3.9.12 64-bit",
   "language": "python",
   "name": "python3"
  },
  "language_info": {
   "codemirror_mode": {
    "name": "ipython",
    "version": 3
   },
   "file_extension": ".py",
   "mimetype": "text/x-python",
   "name": "python",
   "nbconvert_exporter": "python",
   "pygments_lexer": "ipython3",
   "version": "3.9.12"
  },
  "orig_nbformat": 4
 },
 "nbformat": 4,
 "nbformat_minor": 2
}
