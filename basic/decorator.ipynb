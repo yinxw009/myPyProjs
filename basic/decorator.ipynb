{
 "cells": [
  {
   "cell_type": "markdown",
   "metadata": {},
   "source": [
    "4.1 带参数的类的装饰器\n",
    "<用于装饰类的装饰器>\n",
    "<万能公式>"
   ]
  },
  {
   "cell_type": "code",
   "execution_count": null,
   "metadata": {},
   "outputs": [],
   "source": [
    "def add_str(cls):\n",
    "    def __str__(self):\n",
    "        return str(self.__dict__)\n",
    "    cls.__str__ = __str__\n",
    "    return cls\n",
    "@add_str      #等价MyObject=add_str(MyObject)\n",
    "class MyObject:\n",
    "    def __init__(self, a, b):\n",
    "        self.a = a\n",
    "        self.b = b\n",
    "o = MyObject(1, 2)\n",
    "print(o)"
   ]
  },
  {
   "cell_type": "markdown",
   "metadata": {},
   "source": [
    "4.1 类的装饰器\n",
    "<用于装饰类的装饰器>\n",
    "<万能公式>"
   ]
  },
  {
   "cell_type": "code",
   "execution_count": null,
   "metadata": {},
   "outputs": [],
   "source": [
    "def add_str(cls):\n",
    "    def __str__(self):\n",
    "        return str(self.__dict__)\n",
    "    cls.__str__ = __str__\n",
    "    return cls\n",
    "@add_str      #等价MyObject=add_str(MyObject)\n",
    "class MyObject:\n",
    "    def __init__(self, a, b):\n",
    "        self.a = a\n",
    "        self.b = b\n",
    "o = MyObject(1, 2)\n",
    "print(o)"
   ]
  },
  {
   "cell_type": "markdown",
   "metadata": {},
   "source": [
    "3.2 带参数的类装饰器\n",
    "<万能公式>"
   ]
  },
  {
   "cell_type": "code",
   "execution_count": null,
   "metadata": {},
   "outputs": [],
   "source": [
    "import time\n",
    "class Timer:\n",
    "    def __init__(self, prefix):\n",
    "        self.pref = prefix\n",
    "    def __call__(self, func):\n",
    "        def wrapper(*args, **kwargs):\n",
    "            start = time.time()\n",
    "            ret = func(*args, **kwargs)\n",
    "            print(f'{self.pref}{time.time() - start}')\n",
    "            return ret\n",
    "        return wrapper\n",
    "@Timer(prefix = 'curr_time:')       #等价add=Timer(prefix = 'curr_time:')(add)\n",
    "def add(a, b):\n",
    "    return a + b\n",
    "\n",
    "print(add(2, 3))"
   ]
  },
  {
   "cell_type": "markdown",
   "metadata": {},
   "source": [
    "3.1 类装饰器\n",
    "<装饰器的类，用于装饰其他函数的类>\n",
    "<万能公式>"
   ]
  },
  {
   "cell_type": "code",
   "execution_count": null,
   "metadata": {},
   "outputs": [],
   "source": [
    "import time\n",
    "class Timer:\n",
    "    def __init__(self, func):\n",
    "        self.tiFunc = func\n",
    "    def __call__(self, *args, **kwargs):\n",
    "        start = time.time()\n",
    "        ret = self.tiFunc(*args, **kwargs)\n",
    "        print(time.time() - start)\n",
    "        return ret\n",
    "@Timer      #等价add=Timer(add)\n",
    "def add(a, b):\n",
    "    return a + b\n",
    "\n",
    "print('type(add):', type(add))\n",
    "print(add(2, 3))"
   ]
  },
  {
   "cell_type": "markdown",
   "metadata": {},
   "source": [
    "2.4 带参数的装饰器\n",
    "<先调用该参数返回一个装饰器decorator>\n",
    "<该参数可以任意指定>"
   ]
  },
  {
   "cell_type": "code",
   "execution_count": null,
   "metadata": {},
   "outputs": [],
   "source": [
    "import time\n",
    "def timeit(iteration):\n",
    "    def inner(func):\n",
    "        def wrapper(*args, **kwargs):\n",
    "            start = time.time()\n",
    "            for _ in range(iteration):\n",
    "                ret = func(*args, **kwargs)\n",
    "            print(time.time() - start)\n",
    "            return ret\n",
    "        return wrapper\n",
    "    return inner\n",
    "@timeit(10000) #等价double=timeit(10000)(double)\n",
    "def double(x):\n",
    "    return x * 2\n",
    "\n",
    "double(2)\n",
    "# 完全等价于：\n",
    "# inner = timeit(10000)\n",
    "# double = inner(double)"
   ]
  },
  {
   "cell_type": "markdown",
   "metadata": {},
   "source": [
    "2.3. 通用用法：允许变长的函数参数"
   ]
  },
  {
   "cell_type": "code",
   "execution_count": null,
   "metadata": {},
   "outputs": [],
   "source": [
    "import time\n",
    "def timeit(func):\n",
    "    def wrapper(*args, **kwargs):\n",
    "        start = time.time()\n",
    "        ret = func(*args, **kwargs)\n",
    "        print(time.time() - start)\n",
    "        return ret\n",
    "    return wrapper\n",
    "@timeit     #等价my_func=timeit(my_func)\n",
    "def my_func(x):\n",
    "    time.sleep(x)\n",
    "@timeit\n",
    "def add(x, y):\n",
    "    return x + y\n",
    "\n",
    "print(add(2, 3))"
   ]
  },
  {
   "cell_type": "markdown",
   "metadata": {},
   "source": [
    "2.2. 装饰器decorator用法"
   ]
  },
  {
   "cell_type": "code",
   "execution_count": null,
   "metadata": {},
   "outputs": [],
   "source": [
    "import time\n",
    "def timeit(f):\n",
    "    def wrapper(x):\n",
    "        start = time.time()\n",
    "        ret = f(x)\n",
    "        print(time.time() - start)\n",
    "        return ret\n",
    "    return wrapper\n",
    "@timeit\n",
    "def my_func(x):\n",
    "    time.sleep(x)\n",
    "@timeit\n",
    "def other_func(x):\n",
    "    return x * 2\n",
    "\n",
    "print(other_func(2))\n",
    "my_func(1)"
   ]
  },
  {
   "cell_type": "markdown",
   "metadata": {},
   "source": [
    "2.1. 装饰器语法decorator syntax"
   ]
  },
  {
   "cell_type": "code",
   "execution_count": null,
   "metadata": {},
   "outputs": [],
   "source": [
    "def dec(f):     # dec输出不是函数也不会报错\n",
    "    return 1\n",
    "@dec\n",
    "def double(x):\n",
    "    return x * 2\n",
    "\n",
    "print(double)"
   ]
  },
  {
   "cell_type": "markdown",
   "metadata": {},
   "source": []
  },
  {
   "cell_type": "code",
   "execution_count": null,
   "metadata": {},
   "outputs": [],
   "source": [
    "def dec(f):     #输入输出都是函数的函数作装饰器\n",
    "    pass\n",
    "@dec    #完全等价double=dec(double)\n",
    "def double(x):\n",
    "    return x * 2"
   ]
  },
  {
   "cell_type": "markdown",
   "metadata": {},
   "source": [
    "1.3 函数也可以是另一函数的返回值"
   ]
  },
  {
   "cell_type": "code",
   "execution_count": null,
   "metadata": {},
   "outputs": [],
   "source": [
    "def get_multiple_func(n):\n",
    "    def multiple(x):\n",
    "        return n * x\n",
    "    return multiple\n",
    "\n",
    "double = get_multiple_func(2)\n",
    "triple = get_multiple_func(3)\n",
    "print(double(3))\n",
    "print(triple(3))"
   ]
  },
  {
   "cell_type": "markdown",
   "metadata": {},
   "source": [
    "1.2 函数作为参数传进其他函数"
   ]
  },
  {
   "cell_type": "code",
   "execution_count": null,
   "metadata": {},
   "outputs": [],
   "source": [
    "def double(x):\n",
    "    return x * 2\n",
    "def triple(x):\n",
    "    return x * 3\n",
    "def calc_number(func, x):\n",
    "    print(func(x))\n",
    "    \n",
    "calc_number(double, 3)\n",
    "calc_number(triple, 3)"
   ]
  },
  {
   "cell_type": "markdown",
   "metadata": {},
   "source": [
    "1.1 函数也是一个对象"
   ]
  },
  {
   "cell_type": "code",
   "execution_count": null,
   "metadata": {},
   "outputs": [],
   "source": [
    "def double(x):\n",
    "    return x * 2"
   ]
  },
  {
   "cell_type": "markdown",
   "metadata": {},
   "source": [
    "参考：\n",
    "1.【python】装饰器超详细教学，用尽毕生所学给你解释清楚，以后再也不迷茫了！, bilibili, 码农高天\n",
    "https://www.bilibili.com/video/BV1Gu411Q7JV?spm_id_from=333.337.search-card.all.click"
   ]
  }
 ],
 "metadata": {
  "interpreter": {
   "hash": "0ec66bbe782f389edb8615b95e71913b48001538f92dc4d53a6c71a0eff16772"
  },
  "kernelspec": {
   "display_name": "Python 3.9.12 64-bit",
   "language": "python",
   "name": "python3"
  },
  "language_info": {
   "codemirror_mode": {
    "name": "ipython",
    "version": 3
   },
   "file_extension": ".py",
   "mimetype": "text/x-python",
   "name": "python",
   "nbconvert_exporter": "python",
   "pygments_lexer": "ipython3",
   "version": "3.9.12"
  },
  "orig_nbformat": 4
 },
 "nbformat": 4,
 "nbformat_minor": 2
}
