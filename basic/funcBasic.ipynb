{
 "cells": [
  {
   "cell_type": "markdown",
   "metadata": {},
   "source": [
    "8 函数的作用域"
   ]
  },
  {
   "cell_type": "markdown",
   "metadata": {},
   "source": [
    "8.1 局部变量"
   ]
  },
  {
   "cell_type": "code",
   "execution_count": null,
   "metadata": {},
   "outputs": [],
   "source": [
    "def foo():                  #局部变量name\n",
    "    name = 'Charlie'\n",
    "    def bar():\n",
    "        nonlocal name       #访问bar函数所在的foo函数的name局部变量\n",
    "        name = '孙悟空'\n",
    "        print(name)         #Charlie\n",
    "    bar()\n",
    "foo()"
   ]
  },
  {
   "cell_type": "markdown",
   "metadata": {},
   "source": [
    "7 生成器"
   ]
  },
  {
   "cell_type": "markdown",
   "metadata": {},
   "source": [
    "5 函数的嵌套<闭包><递归>"
   ]
  },
  {
   "cell_type": "markdown",
   "metadata": {},
   "source": [
    "5.3 函数的递归"
   ]
  },
  {
   "cell_type": "code",
   "execution_count": null,
   "metadata": {},
   "outputs": [],
   "source": [
    "# 求第n个斐波那契数"
   ]
  },
  {
   "cell_type": "code",
   "execution_count": null,
   "metadata": {},
   "outputs": [],
   "source": [
    "def sum(n):       #求1...n之和\n",
    "    if n == 1:\n",
    "        return 1\n",
    "    return n + sum(n-1)\n",
    "print(sum(100))"
   ]
  },
  {
   "cell_type": "code",
   "execution_count": null,
   "metadata": {},
   "outputs": [],
   "source": [
    "def factorial(n):   # 功能: 如果是不直接知道结果的数据, 就进行分解 9! = 9 * 8! 8 = 8 * 7! ...; 直接知道结果的数据, 就直接返回 1! = 1\n",
    "    if n == 1:\n",
    "        return 1\n",
    "    return n * factorial(n - 1)             # n != 1\n",
    "print('factorial(5):', factorial(7))"
   ]
  },
  {
   "cell_type": "markdown",
   "metadata": {},
   "source": [
    "5.2 闭包"
   ]
  },
  {
   "cell_type": "code",
   "execution_count": null,
   "metadata": {},
   "outputs": [],
   "source": [
    "def closure():\n",
    "    funcs = []\n",
    "    for i in  range(1,4):\n",
    "        def inner(num):\n",
    "            def pri():\n",
    "                print(num)\n",
    "            return pri\n",
    "        funcs.append(inner(i))\n",
    "    return funcs\n",
    "newFunc = closure()\n",
    "print('newFunc:', newFunc)\n",
    "newFunc[0]()\n",
    "newFunc[1]()\n",
    "newFunc[2]()"
   ]
  },
  {
   "cell_type": "code",
   "execution_count": null,
   "metadata": {},
   "outputs": [],
   "source": [
    "def closure():\n",
    "    funcs = []\n",
    "    for num in  range(1,4):\n",
    "        def inner():\n",
    "            print(num)\n",
    "        funcs.append(inner)\n",
    "    return funcs\n",
    "newFunc = closure()\n",
    "print('newFunc:', newFunc)\n",
    "newFunc[0]()\n",
    "newFunc[1]()\n",
    "newFunc[2]()"
   ]
  },
  {
   "cell_type": "code",
   "execution_count": null,
   "metadata": {},
   "outputs": [],
   "source": [
    "# 函数什么时候才会确定内部变量标识对应的值？\n",
    "# 当函数被调用的时候,才会真正的确定对应的值到底是什么。之前都是以普通的变量标识名称而存在\n",
    "def test():\n",
    "    print(b)\n",
    "print(\"xxxx\")   #不会报错，test未被调用，无需确认变量b的值\n",
    "# test()        #运行报错，调用时无法确定变量b，未定义"
   ]
  },
  {
   "cell_type": "code",
   "execution_count": null,
   "metadata": {},
   "outputs": [],
   "source": [
    "def closure():\n",
    "    num = 1\n",
    "    def inner():\n",
    "        print(num)\n",
    "    num = 2\n",
    "    return inner\n",
    "newFunc = closure()     #inner函数未调用，无打印。num值会变2\n",
    "newFunc()"
   ]
  },
  {
   "cell_type": "code",
   "execution_count": null,
   "metadata": {},
   "outputs": [],
   "source": [
    "def closure():\n",
    "    num = 10\n",
    "    def inner():\n",
    "        nonlocal num    #1. 如要修改引用的外层变量，需要nonlocal声明\n",
    "        num = 666\n",
    "        print('num in inner:', num)\n",
    "    print('num in closure before inner:', num)\n",
    "    inner()\n",
    "    print('num in closure after inner:', num)\n",
    "    return inner\n",
    "result = closure()\n",
    "result()"
   ]
  },
  {
   "cell_type": "code",
   "execution_count": null,
   "metadata": {},
   "outputs": [],
   "source": [
    "def line_config(content, length):   #根据不同参数生成不同功能函数\n",
    "    def line():\n",
    "        print(\"-\"*(length // 2) + content + \"-\"*(length // 2))\n",
    "    return line\n",
    "line1 = line_config(\"闭包\", 20)\n",
    "line2 = line_config(\"xxxx\", 60)\n",
    "line1()\n",
    "line2()"
   ]
  },
  {
   "cell_type": "code",
   "execution_count": null,
   "metadata": {},
   "outputs": [],
   "source": [
    "def closure():          # 闭包格式\n",
    "    num = 10\n",
    "    def inner():        #1. 在函数嵌套的前提下。\n",
    "        print(num)      #2. 内层函数引用了外层函数的变量(包括参数)\n",
    "    return inner        #3. 外层函数把内层函数当做返回值进行返回\n",
    "\n",
    "newFunc = closure()\n",
    "newFunc()"
   ]
  },
  {
   "cell_type": "markdown",
   "metadata": {},
   "source": [
    "5.1 嵌套"
   ]
  },
  {
   "cell_type": "code",
   "execution_count": null,
   "metadata": {},
   "outputs": [],
   "source": [
    "def getMathFunc(type, nn):\n",
    "    def square(n):          #定义一个计算平方的局部函数\n",
    "        return n*n\n",
    "    def cube(n):            #定义一个计算立方的局部函数\n",
    "        return n*n*n\n",
    "    def factorial(n):       #定义一个计算阶乘的局部函数\n",
    "        result = 1\n",
    "        for index in range(2, n + 1):\n",
    "            result *= index\n",
    "        return result\n",
    "\n",
    "    if type == \"square\":    #调用局部函数\n",
    "        return square(nn)\n",
    "    elif type == \"cube\":\n",
    "        return cube(nn)\n",
    "    else:\n",
    "        return factorial(nn)\n",
    "\n",
    "print(getMathFunc(\"square\", 3))\n",
    "print(getMathFunc(\"cube\", 3))\n",
    "print(getMathFunc(\"factorial\", 2))"
   ]
  },
  {
   "cell_type": "markdown",
   "metadata": {},
   "source": [
    "4 lambda函数<匿名函数>"
   ]
  },
  {
   "cell_type": "code",
   "execution_count": null,
   "metadata": {},
   "outputs": [],
   "source": [
    "l = [{\"name\": \"sz\", \"age\": 18}, {\"name\": \"sz2\", \"age\": 19}, {\"name\": \"sz3\", \"age\": 18.5}]\n",
    "result = sorted(l, key=lambda x: x[\"age\"])      #等价def getKey(x):    return x[\"age\"]\n",
    "print(result)"
   ]
  },
  {
   "cell_type": "code",
   "execution_count": null,
   "metadata": {},
   "outputs": [],
   "source": [
    "print((lambda x, y : x + y)(3, 2))\n",
    "newFunc = lambda x, y : x + y\n",
    "print('type(newFunc):', type(newFunc), newFunc(4, 5))"
   ]
  },
  {
   "cell_type": "markdown",
   "metadata": {},
   "source": [
    "3 函数的返回值"
   ]
  },
  {
   "cell_type": "markdown",
   "metadata": {},
   "source": [
    "3.2 返回函数<一个函数返回数据为另一个函数>"
   ]
  },
  {
   "cell_type": "code",
   "execution_count": null,
   "metadata": {},
   "outputs": [],
   "source": [
    "def getFunc(flag):      #根据不同参数, 获取不同操作, 做不同计算\n",
    "    def sum(a, b, c):\n",
    "        return a + b + c\n",
    "    def diff(a, b, c):\n",
    "        return a - b - c\n",
    "    if flag == \"+\":    # 根据不同的flag值, 来返回不同的操作函数\n",
    "        return sum\n",
    "    elif flag == \"-\":\n",
    "        return diff\n",
    "\n",
    "result = getFunc(\"+\")\n",
    "print(result, type(result))\n",
    "print(result(1, 3, 5))"
   ]
  },
  {
   "cell_type": "code",
   "execution_count": null,
   "metadata": {},
   "outputs": [],
   "source": [
    "def get_multiple_func(n):\n",
    "    def multiple(x):\n",
    "        return n * x\n",
    "    return multiple\n",
    "\n",
    "double = get_multiple_func(2)\n",
    "triple = get_multiple_func(3)\n",
    "print(double(3))\n",
    "print(triple(3))"
   ]
  },
  {
   "cell_type": "markdown",
   "metadata": {},
   "source": [
    "3.1 返回多个数据<元组、列表、字典>"
   ]
  },
  {
   "cell_type": "code",
   "execution_count": null,
   "metadata": {},
   "outputs": [],
   "source": [
    "def sumAvg(lst):\n",
    "    sum = 0\n",
    "    count = 0\n",
    "    for e in lst:      #如果元素e是数值\n",
    "        if isinstance(e, int) or isinstance(e, float):\n",
    "            count += 1\n",
    "    sum += e\n",
    "    return sum, sum / count     #返回多个返回值\n",
    "myLst = [20, 15, 2.8, 'a', 35, 5.9, -1.8]\n",
    "tp = sumAvg(myLst)              #获取sumAvg函数多个返回值，封装成元组\n",
    "print('sumAvg(myLst):', tp)\n",
    "s, avg = sumAvg(myLst)          #使用序列解包来获取多个返回值\n",
    "print(s)\n",
    "print(avg)"
   ]
  },
  {
   "cell_type": "markdown",
   "metadata": {},
   "source": [
    "2 函数的参数"
   ]
  },
  {
   "cell_type": "markdown",
   "metadata": {},
   "source": [
    "2.7 偏函数<c++函数适配器？><与缺省参数函数的区别>"
   ]
  },
  {
   "cell_type": "code",
   "execution_count": null,
   "metadata": {},
   "outputs": [],
   "source": [
    "from functools import partial\n",
    "def display(name, age):          #定义个原函数\n",
    "    print(\"name：\", name, \"age：\", age)\n",
    "GaryFun = partial(display, name = \"Gary\")    #定义偏函数，封装了display函数，并为name设置了默认值\n",
    "GaryFun(age = 13)           #由于name参数已经有默认值，因此调用偏函数时，可以不指定"
   ]
  },
  {
   "cell_type": "code",
   "execution_count": null,
   "metadata": {},
   "outputs": [],
   "source": [
    "import functools                #使用场景\n",
    "numStr = '01001001'\n",
    "print(int(numStr, base =2))\n",
    "binInt = functools.partial(int, base = 2)         #固定按二进制转换\n",
    "print(binInt(numStr))"
   ]
  },
  {
   "cell_type": "code",
   "execution_count": null,
   "metadata": {},
   "outputs": [],
   "source": [
    "import functools\n",
    "def test(a, b, c, d = 1):\n",
    "    return a + b + c + d\n",
    "newfunc = functools.partial(test, c=5)\n",
    "newfunc2 = functools.partial(test, c= 4, d= 2)\n",
    "print(newfunc(3, 4))\n",
    "print(newfunc2(3, 5))"
   ]
  },
  {
   "cell_type": "markdown",
   "metadata": {},
   "source": [
    "2.8 高阶函数<一个函数接收的参数是函数时, 则这个函数称为\"高阶函数\">"
   ]
  },
  {
   "cell_type": "code",
   "execution_count": null,
   "metadata": {},
   "outputs": [],
   "source": [
    "l = [{\"name\": \"sz\", \"age\": 18}, {\"name\": \"sz2\", \"age\": 19}, {\"name\": \"sz3\", \"age\": 18.5}]\n",
    "def getKey(x):                      #lambda函数实现更为简洁\n",
    "    return x[\"age\"]\n",
    "result = sorted(l, key=getKey)      #getKey函数作为参数，而非调用\n",
    "print(result)"
   ]
  },
  {
   "cell_type": "code",
   "execution_count": null,
   "metadata": {},
   "outputs": [],
   "source": [
    "def calculate(num1, num2, calFunc):     #2 函数作为参数传进其他函数\n",
    "    print(calFunc(num1, num2))\n",
    "def sum(a, b):\n",
    "    return a + b\n",
    "def diff(a, b):\n",
    "    return a - b\n",
    "\n",
    "calculate(5, 4, sum)\n",
    "calculate(6, 3, diff)"
   ]
  },
  {
   "cell_type": "code",
   "execution_count": null,
   "metadata": {},
   "outputs": [],
   "source": [
    "def testFunc(a, b):          #形参a, b就是变量。传递数据就是给变量赋值\n",
    "    print(a + b)\n",
    "print('id(testFunc):', id(testFunc))\n",
    "\n",
    "myFunc = testFunc            #函数本身也可以作为数据传递给另一个变量\n",
    "print('myFunc(1,2):', myFunc(1, 2))\n",
    "myFunc(1,2)\n",
    "print('id(testFunc):', id(testFunc))"
   ]
  },
  {
   "cell_type": "markdown",
   "metadata": {},
   "source": [
    "2.4 参数传递"
   ]
  },
  {
   "cell_type": "markdown",
   "metadata": {},
   "source": [
    "2.4.2 关键字传参"
   ]
  },
  {
   "cell_type": "code",
   "execution_count": null,
   "metadata": {},
   "outputs": [],
   "source": [
    "def girth(width, height):\n",
    "    print(\"width:\", width, \"height:\", height)\n",
    "    return 2*(width + height)\n",
    "\n",
    "print(girth(3.5, 4.8))                      #传统调用函数的方式，根据位置传入函数\n",
    "print(girth(width = 9.1, height = 2.4))     #根据关键字参数来传入参数\n",
    "print(girth(height = 8.1, width = 4.7))     #使用关键字参数时可交换位置\n",
    "print(girth(1.2, height = 5.6))             #部分使用关键字参数，部分使用位置参数"
   ]
  },
  {
   "cell_type": "code",
   "execution_count": null,
   "metadata": {},
   "outputs": [],
   "source": [
    "def demo(obj):\n",
    "    obj += obj\n",
    "    print(\"形参值为：\",obj)\n",
    "\n",
    "print(\"-------值传递-------\")\n",
    "a = \"C语言中文网\"\n",
    "print(\"a的值为：\",a)\n",
    "demo(a)\n",
    "print(\"实参值为：\",a)\n",
    "\n",
    "print(\"------引用传递------\")\n",
    "a = [1,2,3]\n",
    "print(\"a的值为：\",a)\n",
    "demo(a)\n",
    "print(\"实参值为：\",a)"
   ]
  },
  {
   "cell_type": "markdown",
   "metadata": {},
   "source": [
    "2.3 缺省参数"
   ]
  },
  {
   "cell_type": "code",
   "execution_count": null,
   "metadata": {},
   "outputs": [],
   "source": [
    "def say_hi(name = \"孙悟空\", message = \"欢迎来到C语言中文网\"):   #为两个参数指定默认值\n",
    "    print(name, \"，您好\")\n",
    "    print(\"消息是：\", message)\n",
    "\n",
    "say_hi()                                #全部使用默认参数\n",
    "say_hi(\"白骨精\")                        #只有message参数使用默认值\n",
    "say_hi(\"白骨精\", \"欢迎学习Python\")      #两个参数都不使用默认值\n",
    "say_hi(message = \"欢迎学习Python\")      #只有name参数使用默认值"
   ]
  },
  {
   "cell_type": "markdown",
   "metadata": {},
   "source": [
    "2.2 不定长参数"
   ]
  },
  {
   "cell_type": "code",
   "execution_count": null,
   "metadata": {},
   "outputs": [],
   "source": [
    "def mySum(*args):\n",
    "    # print('type(args):', type(args))\n",
    "    res = 0\n",
    "    if len(args) == 1:\n",
    "        for var in range(1, args[0]+1):\n",
    "            res += var\n",
    "    elif len(args) == 2:\n",
    "        for var in range(args[0], args[1]):\n",
    "            res += var\n",
    "    elif len(args) == 3:\n",
    "        for var in range(args[0], args[1], args[2]):\n",
    "            res += var\n",
    "    else:\n",
    "        pass\n",
    "    return res\n",
    "print('mySum(5)=', mySum(5))\n",
    "print('mySum(4,6)=',mySum(4,6))\n",
    "print('mySum(5,10,3)=',mySum(5,10,3))\n",
    "print('mySum(1,2,3,4,5,6,6):',mySum(1,2,3,4,5,6,6))\n"
   ]
  },
  {
   "cell_type": "markdown",
   "metadata": {},
   "source": [
    "2.1 定长参数"
   ]
  },
  {
   "cell_type": "markdown",
   "metadata": {},
   "source": [
    "1 函数基础"
   ]
  },
  {
   "cell_type": "markdown",
   "metadata": {},
   "source": [
    "1.2 函数的使用描述"
   ]
  },
  {
   "cell_type": "code",
   "execution_count": null,
   "metadata": {},
   "outputs": [],
   "source": [
    "def my_max(x, y):\n",
    "    '''\n",
    "    获取两个数值之间较大数的函数。\n",
    "    :param x: 数值类型, 不可选, 没有默认值\n",
    "    :param y: 数值类型, 不可选, 没有默认值\n",
    "    :return: 返回的是两个数中较大数\n",
    "    '''\n",
    "    return x if x > y else y       #返回x,y中较大的值"
   ]
  },
  {
   "cell_type": "code",
   "execution_count": null,
   "metadata": {},
   "outputs": [],
   "source": [
    "def caculate(a, b=1):\n",
    "    \"\"\"\n",
    "    计算两个数据的和, 以及差\n",
    "    :param a: 数值1, 数值类型, 不可选, 没有默认值\n",
    "    :param b: 数值2, 数值类型, 可选, 默认值: 1\n",
    "    :return: 返回的是计算的结果, 元组 : (和, 差)\n",
    "    \"\"\"\n",
    "    sum = a + b\n",
    "    diff = a - b\n",
    "    return (sum, diff)"
   ]
  },
  {
   "cell_type": "markdown",
   "metadata": {},
   "source": [
    "1.1 函数也是一个对象"
   ]
  },
  {
   "cell_type": "code",
   "execution_count": null,
   "metadata": {},
   "outputs": [],
   "source": [
    "def pow(base, exponent):    #定义一个计算乘方的函数\n",
    "    result = 1\n",
    "    for i in range(1, exponent + 1):\n",
    "        result *= base\n",
    "    return result\n",
    "myFunc = pow            #将pow函数赋值给myFunc，则myFunc可当成pows使用\n",
    "print(myFunc(3,1))\n",
    "\n",
    "def area(width, height):    #定义一个计算面积的函数\n",
    "    return width * height\n",
    "myFunc = area       #将area函数赋值给myFunc，则myFunc可当成area使用\n",
    "print(myFunc(3,4))"
   ]
  },
  {
   "cell_type": "code",
   "execution_count": null,
   "metadata": {},
   "outputs": [],
   "source": [
    "def double(x):\n",
    "    return x * 2\n",
    "print('double(2):', double(2), 'type(double):', type(double))"
   ]
  },
  {
   "cell_type": "markdown",
   "metadata": {},
   "source": [
    "参考：\n",
    "1. Python入门教程——基础阶段, bilibili, Leofaith\n",
    "   https://www.bilibili.com/video/BV12b411g7G7?p=127"
   ]
  }
 ],
 "metadata": {
  "interpreter": {
   "hash": "4fbfea1dd5a17f80dff8df3ba641602c59e31ce1a55b82aea18e6894ff3c71a7"
  },
  "kernelspec": {
   "display_name": "Python 3.9.12 64-bit",
   "language": "python",
   "name": "python3"
  },
  "language_info": {
   "codemirror_mode": {
    "name": "ipython",
    "version": 3
   },
   "file_extension": ".py",
   "mimetype": "text/x-python",
   "name": "python",
   "nbconvert_exporter": "python",
   "pygments_lexer": "ipython3",
   "version": "3.9.12"
  },
  "orig_nbformat": 4
 },
 "nbformat": 4,
 "nbformat_minor": 2
}
