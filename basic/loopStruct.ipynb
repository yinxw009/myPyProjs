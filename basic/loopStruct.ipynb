{
 "cells": [
  {
   "cell_type": "markdown",
   "metadata": {},
   "source": [
    "3. while语句"
   ]
  },
  {
   "cell_type": "code",
   "execution_count": null,
   "metadata": {},
   "outputs": [],
   "source": []
  },
  {
   "cell_type": "markdown",
   "metadata": {},
   "source": [
    "2. for语句"
   ]
  },
  {
   "cell_type": "markdown",
   "metadata": {},
   "source": [
    "2.6 算法实现"
   ]
  },
  {
   "cell_type": "markdown",
   "metadata": {},
   "source": [
    "2.6.2 生成乘法表"
   ]
  },
  {
   "cell_type": "code",
   "execution_count": null,
   "metadata": {},
   "outputs": [],
   "source": [
    "import xlwt\n",
    "wb = xlwt.Workbook(encoding = 'utf-8')\n",
    "ws = wb.add_sheet('乘法表')\n",
    "for x in range(1, 10):\n",
    "    for y in range(1, x+1):\n",
    "        ws.write(x, y, '%d x %d = %d' %(x, y, x*y))\n",
    "wb.save('乘法表.xls')"
   ]
  },
  {
   "cell_type": "markdown",
   "metadata": {},
   "source": [
    "2.6.1 bublle冒泡算法"
   ]
  },
  {
   "cell_type": "code",
   "execution_count": null,
   "metadata": {},
   "outputs": [],
   "source": [
    "data = [5,8,4,1,2]\n",
    "for i in range(len(data)-1):        #实现冒泡排序\n",
    "    for j in range(len(data)-i-1):\n",
    "        if data[j]>data[j+1]:\n",
    "            data[j],data[j+1] = data[j+1],data[j]\n",
    "print('排序后：',data)"
   ]
  },
  {
   "cell_type": "markdown",
   "metadata": {},
   "source": [
    "2.5 for遍历集合"
   ]
  },
  {
   "cell_type": "markdown",
   "metadata": {},
   "source": [
    "2.4 for遍历字典"
   ]
  },
  {
   "cell_type": "markdown",
   "metadata": {},
   "source": [
    "2.4.1 遍历字典"
   ]
  },
  {
   "cell_type": "code",
   "execution_count": null,
   "metadata": {},
   "outputs": [],
   "source": [
    "my_dict = {'语文':89, '数学':92, '英语':80}     #由于items方法返回的列表元素是key-value对，因此要申明两个变量\n",
    "print('------------------items()------------------')\n",
    "for key,value in my_dict.items():       #通过items()方法遍历所有key-value对\n",
    "    print('key:', key, 'value:', value)\n",
    "\n",
    "print('-------------------keys()------------------')\n",
    "for key in my_dict.keys():              #通过keys()方法遍历所有key\n",
    "    print('key:', key, 'value:', my_dict[key])        #通过key获取value\n",
    "\n",
    "print('------------------values()-----------------')\n",
    "for value in my_dict.values():          #通过values()方法遍历所有value\n",
    "    print('value:',value)"
   ]
  },
  {
   "cell_type": "markdown",
   "metadata": {},
   "source": [
    "2.3 for遍历字符串str"
   ]
  },
  {
   "cell_type": "markdown",
   "metadata": {},
   "source": [
    "2.2 for遍历列表list"
   ]
  },
  {
   "cell_type": "code",
   "execution_count": null,
   "metadata": {},
   "outputs": [],
   "source": [
    "srcLst = [12,45,3.4,13,'a',4,56,'crazyit',109.5]\n",
    "mySum = 0\n",
    "myCount = 0\n",
    "for ele in srcLst:\n",
    "    if isinstance(ele, int) or isinstance(ele, float):    #如果该元素是整数或浮点数\n",
    "        print(ele)\n",
    "        mySum += ele        #累加该元素\n",
    "        myCount += 1        #数值元素个数加1\n",
    "\n",
    "print(\"总和：\",mySum,\"个数：\",myCount)\n",
    "print('平均数：',mySum/myCount)"
   ]
  },
  {
   "cell_type": "markdown",
   "metadata": {},
   "source": [
    "2.2.1 for统计列表中各元素出现次数\n"
   ]
  },
  {
   "cell_type": "code",
   "execution_count": null,
   "metadata": {},
   "outputs": [],
   "source": [
    "srcLst = [12,45,3.4,12,'fkit',45,3.4,'fkit',45,3.4, 'fkit']\n",
    "statistics = {}\n",
    "for ele in srcLst:\n",
    "    if ele in statistics:               #如果字典中包含ele代表的key\n",
    "        statistics[ele] += 1            #将ele元素代表出现次数加1\n",
    "    else:                               #如果字典中不包含ele代表的key,\n",
    "        statistics[ele] = 1             #将ele元素代表出现次数设为1\n",
    "print(statistics)\n",
    "for ele,count in statistics.items():    #遍历dict，打印出各元素出现次数\n",
    "    print(\"%s的出现次数为：%d\"%(ele,count))"
   ]
  },
  {
   "cell_type": "markdown",
   "metadata": {},
   "source": [
    "2.2.1 根据索引遍历列表\n"
   ]
  },
  {
   "cell_type": "code",
   "execution_count": null,
   "metadata": {},
   "outputs": [],
   "source": [
    "a_list = [330,1.4,50,'fkit',-3.5]\n",
    "for var in range(0, len(a_list)):                       #遍历0到len(a_list)的范围\n",
    "    print(\"第 %d 个元素是 %s \"%(var, a_list[var]))      #根据索引访问列表元素"
   ]
  },
  {
   "cell_type": "markdown",
   "metadata": {},
   "source": [
    "2.1 str遍历元组tuple"
   ]
  },
  {
   "cell_type": "markdown",
   "metadata": {},
   "source": [
    "2.1.3 根据索引遍历元组\n"
   ]
  },
  {
   "cell_type": "markdown",
   "metadata": {},
   "source": [
    "2.1.2 for循环遍历元组\n"
   ]
  },
  {
   "cell_type": "code",
   "execution_count": null,
   "metadata": {},
   "outputs": [],
   "source": [
    "a_tuple = ('crazyit','fkit','Charlie')\n",
    "for ele in a_tuple:\n",
    "    print('当前元素是：',ele)"
   ]
  },
  {
   "cell_type": "markdown",
   "metadata": {},
   "source": [
    "1. if语句"
   ]
  },
  {
   "cell_type": "code",
   "execution_count": null,
   "metadata": {},
   "outputs": [],
   "source": [
    "s = input(\"请输入一个整数：\")\n",
    "s = int(s)\n",
    "if s > 5:\n",
    "    print(\"大于5\")\n",
    "elif s < 5:\n",
    "    pass    #空语句\n",
    "else:\n",
    "    print(\"等于5\")"
   ]
  },
  {
   "cell_type": "code",
   "execution_count": null,
   "metadata": {},
   "outputs": [],
   "source": [
    "s = \"\"\n",
    "if s :\n",
    "    print('s不是空字符串')\n",
    "else:\n",
    "    print('s是空字符串')\n",
    "\n",
    "my_list = []#定义空列表\n",
    "if my_list:\n",
    "    print('my_list不是空列表')\n",
    "else:\n",
    "    print('my_list是空列表')\n",
    "    \n",
    "my_dict = {}#定义空字典\n",
    "if my_dict:\n",
    "    print('my_dict不是空字典')\n",
    "else:\n",
    "    print('my_dict是空字典')"
   ]
  },
  {
   "cell_type": "code",
   "execution_count": null,
   "metadata": {},
   "outputs": [],
   "source": [
    "proof = int(input(\"输入驾驶员每100ml血液酒精的含量：\"))\n",
    "if proof < 20:\n",
    "    print(\"驾驶员不构成酒驾\")\n",
    "else:\n",
    "    if proof < 80:\n",
    "        print(\"驾驶员已构成酒驾\")\n",
    "    else:\n",
    "        print(\"驾驶员已构成醉驾\")"
   ]
  },
  {
   "cell_type": "code",
   "execution_count": null,
   "metadata": {},
   "outputs": [],
   "source": [
    "s_age = input(\"请输入您的年龄：\")\n",
    "age = int(s_age)\n",
    "if age > 20 :                      #使用第一种形式的if分支结构\n",
    "    print(\"年龄已经大于20岁了\")     #只有当age > 20时，下面用整体缩进的代码块才会执行\n",
    "    print(\"20岁以上的人应该学会承担责任...\")"
   ]
  }
 ],
 "metadata": {
  "interpreter": {
   "hash": "4fbfea1dd5a17f80dff8df3ba641602c59e31ce1a55b82aea18e6894ff3c71a7"
  },
  "kernelspec": {
   "display_name": "Python 3.9.12 64-bit",
   "language": "python",
   "name": "python3"
  },
  "language_info": {
   "codemirror_mode": {
    "name": "ipython",
    "version": 3
   },
   "file_extension": ".py",
   "mimetype": "text/x-python",
   "name": "python",
   "nbconvert_exporter": "python",
   "pygments_lexer": "ipython3",
   "version": "3.9.12"
  },
  "orig_nbformat": 4
 },
 "nbformat": 4,
 "nbformat_minor": 2
}
