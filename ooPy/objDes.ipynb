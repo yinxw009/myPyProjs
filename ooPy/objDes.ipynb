{
 "cells": [
  {
   "cell_type": "markdown",
   "metadata": {},
   "source": [
    "4. 对象"
   ]
  },
  {
   "cell_type": "markdown",
   "metadata": {},
   "source": [
    "4.1 对象的生命周期使用"
   ]
  },
  {
   "cell_type": "code",
   "execution_count": null,
   "metadata": {},
   "outputs": [],
   "source": [
    "# 监听对象生命周期的方法-小案例\n",
    "# Person, 打印一下, 当前这个时刻, 由Person类, 产生的实例, 有多少个\n",
    "# 创建了一个实例, 计数 + 1, 如果, 删除了一个实例, 计数 - 1\n",
    "class Person:\n",
    "    counter = 0\n",
    "    def __init__(self):\n",
    "        # Person.counter += 1\n",
    "        print('Obj created: %d'%self.counter)\n",
    "    def __del__(self):\n",
    "        # Person.counter -= 1\n",
    "        print('Obj deleted: %d'%self.counter)\n",
    "\n",
    "p = Person()\n",
    "print(Person.counter)\n",
    "p1 = Person()\n",
    "print(Person.counter)\n",
    "del p1\n",
    "print(Person.counter)\n"
   ]
  },
  {
   "cell_type": "code",
   "execution_count": null,
   "metadata": {},
   "outputs": [],
   "source": [
    "class Person:\n",
    "    # def __new__(cls, *args, **kwargs):\n",
    "    #     print(\"新建了一个对象, 但是, 被我拦截了\")\n",
    "    def __init__(self):\n",
    "        print(\"初始化方法\")\n",
    "        self.name = \"Susan\"\n",
    "    def __del__(self):\n",
    "        print(\"这个对象被释放了\")\n",
    "    pass\n",
    "\n",
    "p = Person()\n",
    "print(p.name)\n",
    "print(p)\n",
    "# del p"
   ]
  },
  {
   "cell_type": "markdown",
   "metadata": {},
   "source": [
    "参考：\n",
    "1.【Python】零基础入门——面向对象编程（强烈推荐）, bilibili, Leofaith\n",
    "https://www.bilibili.com/video/BV1A4411v7b2?spm_id_from=333.337.search-card.all.click"
   ]
  }
 ],
 "metadata": {
  "interpreter": {
   "hash": "0ec66bbe782f389edb8615b95e71913b48001538f92dc4d53a6c71a0eff16772"
  },
  "kernelspec": {
   "display_name": "Python 3.9.12 64-bit",
   "language": "python",
   "name": "python3"
  },
  "language_info": {
   "codemirror_mode": {
    "name": "ipython",
    "version": 3
   },
   "file_extension": ".py",
   "mimetype": "text/x-python",
   "name": "python",
   "nbconvert_exporter": "python",
   "pygments_lexer": "ipython3",
   "version": "3.9.12"
  },
  "orig_nbformat": 4
 },
 "nbformat": 4,
 "nbformat_minor": 2
}
