{
 "cells": [
  {
   "cell_type": "markdown",
   "metadata": {},
   "source": [
    "2. attributes属性--Python面向对象"
   ]
  },
  {
   "cell_type": "markdown",
   "metadata": {},
   "source": [
    "2.8 系统内置属性"
   ]
  },
  {
   "cell_type": "code",
   "execution_count": null,
   "metadata": {},
   "outputs": [],
   "source": [
    "class Person:\n",
    "    \"\"\"\n",
    "    这是一个人, 类\n",
    "    \"\"\"\n",
    "    age = 19\n",
    "    def __init__(self):\n",
    "        self.name = \"sz\"\n",
    "\n",
    "    def run(self):\n",
    "        print(\"run\")\n",
    "\n",
    "\n",
    "# __dict__ : 类的属性\n",
    "# __bases__ : 类的所有父类构成元组\n",
    "# __doc__ :类的文档字符串\n",
    "# __name__: 类名\n",
    "# __module__: 类定义所在的模块\n",
    "\n",
    "\n",
    "print(Person.__dict__)\n",
    "print(Person.__bases__)\n",
    "print(Person.__doc__)\n",
    "# help(Person)\n",
    "print(Person.__name__)\n",
    "print(Person.__module__)\n",
    "\n",
    "p = Person()\n",
    "print(p.__class__)"
   ]
  },
  {
   "cell_type": "markdown",
   "metadata": {},
   "source": [
    "2.7.2 只读属性<方式二>"
   ]
  },
  {
   "cell_type": "code",
   "execution_count": null,
   "metadata": {},
   "outputs": [],
   "source": [
    "class Person:\n",
    "    # 当我们通过 \"实例.属性 = 值\", 给一个实例增加一个属性, 或者说, 修改一下属性值的时候, 都会调用这个方法\n",
    "    # 在这个方法内部, 才会真正的把, 这个属性, 以及对应的数据, 给存储到__dict__字典里面\n",
    "    def __setattr__(self, key, value):\n",
    "        print(key, value)\n",
    "\n",
    "        # 1. 判定, key, 是否是我们要设置的只读属性的名称\n",
    "        if key == \"age\" and key in self.__dict__.keys():\n",
    "            print(\"这个属性是只读属性, 不能设置数据\")\n",
    "        # 2. 如果说不是, 只读属性的名称, 真正的给它添加到这个实例里面去\n",
    "        else:\n",
    "            # self.key = value\n",
    "            self.__dict__[key] = value\n",
    "p1 = Person()\n",
    "p1.age = 18\n",
    "# p1.name = \"sz\"\n",
    "# print(p1.age)\n",
    "print(p1.age)\n",
    "\n",
    "\n",
    "p1.age = 999\n",
    "print(p1.age)\n",
    "\n",
    "print(p1.__dict__)"
   ]
  },
  {
   "cell_type": "markdown",
   "metadata": {},
   "source": [
    "2.7.1 只读属性<方式一>"
   ]
  },
  {
   "cell_type": "code",
   "execution_count": null,
   "metadata": {},
   "outputs": [],
   "source": [
    "# _*_ encoding:utf-8 _*_\n",
    "#property在经典类的使用方式，python2.x解释器运行\n",
    "class Person:\n",
    "    def __init__(self):\n",
    "        self.__age = 18\n",
    "\n",
    "    @property\n",
    "    def age(self):\n",
    "        print \"-----get\"\n",
    "        return self.__age\n",
    "\n",
    "    @age.setter\n",
    "    def age(self, value):\n",
    "        self.__age = value\n",
    "\n",
    "p = Person()\n",
    "# print p.age\n",
    "\n",
    "p.age = 19\n",
    "print p.age\n",
    "print p.__dict__"
   ]
  },
  {
   "cell_type": "code",
   "execution_count": null,
   "metadata": {},
   "outputs": [],
   "source": [
    "#property在新式类的第一种使用方式\n",
    "class Person(object):\n",
    "    def __init__(self):\n",
    "        self.__age = 18\n",
    "\n",
    "    def get_age(self):\n",
    "        print('-'*6,'Get age','-'*6)\n",
    "        return self.__age\n",
    "\n",
    "    def set_age(self, value):\n",
    "        print('-'*6,'Set age','-'*6)\n",
    "        self.__age = value\n",
    "\n",
    "    age = property(get_age, set_age)\n",
    "p = Person()\n",
    "print('p.age:', p.age)\n",
    "p.age = 90\n",
    "print('p.age:', p.age)\n",
    "print('p.__dict__:', p.__dict__)"
   ]
  },
  {
   "cell_type": "code",
   "execution_count": null,
   "metadata": {},
   "outputs": [],
   "source": [
    "#property在新式类的第二种使用方式\n",
    "class Person(object):\n",
    "    def __init__(self):\n",
    "        self.__age = 18\n",
    "\n",
    "    @property       #主要作用:可以以使用属性的方式,来使用这个方法\n",
    "    def age(self):\n",
    "        print('-'*6,'Get age','-'*6)\n",
    "        return self.__age\n",
    "\n",
    "    @age.setter\n",
    "    def age(self, value):\n",
    "        print('-'*6,'Set age','-'*6)\n",
    "        self.__age = value\n",
    "\n",
    "p = Person()\n",
    "print('p.age:', p.age)\n",
    "p.age = 16\n"
   ]
  },
  {
   "cell_type": "code",
   "execution_count": null,
   "metadata": {},
   "outputs": [],
   "source": [
    "class Person:\n",
    "    def __init__(self):\n",
    "        self.__age = 18\n",
    "    def getAge(self):\n",
    "        return self.__age\n",
    "p1 = Person()\n",
    "print('p1.getAge():', p1.getAge())"
   ]
  },
  {
   "cell_type": "markdown",
   "metadata": {},
   "source": [
    "2.6.3 私有属性的应用场景<数据过滤、数据保护>"
   ]
  },
  {
   "cell_type": "code",
   "execution_count": null,
   "metadata": {},
   "outputs": [],
   "source": [
    "class Person:\n",
    "    def __init__(self):     #主要作用：创建好一个实例对象之后，会自动调用这个方法，来初始化这个对象\n",
    "        self.__age = 18\n",
    "    def setAge(self,value):\n",
    "        if isinstance(value, int) and 0 < value < 200:\n",
    "            self.__age =value\n",
    "        else:\n",
    "            print('Your input is not integer or out of range!')\n",
    "    def getAge(self):\n",
    "        return self.__age\n",
    "\n",
    "p1 = Person()\n",
    "p1.__age = -10          #私有属性_Person__age无法访问， 新增实例属性\n",
    "# print(p1.__age)       #无法访问私有属性，报错\n",
    "p1.setAge(20)\n",
    "p1.setAge('abc')\n",
    "print('p1._Person__age:', p1._Person__age)  #可强行访问私有属性__age\n",
    "print('p1.getAge():', p1.getAge())\n",
    "\n",
    "p2 = Person()\n",
    "p3 = Person()\n",
    "\n",
    "# print('p1.age:', p1.age, 'p2.age:',p2.age,'p3.age:',p3.age)\n",
    "print(p1.__dict__)"
   ]
  },
  {
   "cell_type": "markdown",
   "metadata": {},
   "source": [
    "2.6.2 私有属性的实现机制"
   ]
  },
  {
   "cell_type": "code",
   "execution_count": null,
   "metadata": {},
   "outputs": [],
   "source": [
    "class Animal:\n",
    "    __x =10\n",
    "    def test(self):\n",
    "        print('Animal.__x:', Animal.__x, 'self.__x:', self.__x)\n",
    "\n",
    "# print('Animal.__x:', Animal.__x)    #本模块内不能直接访问类的私有属性\n",
    "print(Animal.__dict__)                #私有化属性名字重整机制\n",
    "print('Animal._Animal__x:',Animal._Animal__x)"
   ]
  },
  {
   "cell_type": "markdown",
   "metadata": {},
   "source": [
    "2.6.1 私有属性和变量的访问权限"
   ]
  },
  {
   "cell_type": "code",
   "execution_count": null,
   "metadata": {},
   "outputs": [],
   "source": [
    "class Animal:\n",
    "    __x =10\n",
    "    def test(self):\n",
    "        print('Animal.__x:', Animal.__x, 'self.__x:', self.__x)\n",
    "class Dog(Animal):\n",
    "    def test2(self):\n",
    "        print('Dog.__x:', Dog.__x, 'self.__x:', self.__x)\n",
    "a = Animal()\n",
    "a.test()            #1. 类的内部可以访问私有属性\n",
    "d = Dog()\n",
    "# d.test2()         #2. 衍生类（子类）内部不能访问类的私有属性\n",
    "# print('Animal.__x:', Animal.__x)    #3. 本模块内不能访问类的私有属性\n",
    "# print('Dog.__x:', Dog.__x)\n",
    "# print('a.__x:', a.__x)\n",
    "# print('d.__x:', d.__x)\n",
    "\n",
    "import classDef     #4.1 可以访问跨模块的__变量\n",
    "print('classDef.__varIntModPri:',classDef.__varIntModPri)\n",
    "from classDef import *  #4.2 此种导入方式不可访问跨模块的受保护变量\n",
    "print('__varIntModPri:',__varIntModPri)"
   ]
  },
  {
   "cell_type": "markdown",
   "metadata": {},
   "source": [
    "2.5 受保护属性和变量的访问权限"
   ]
  },
  {
   "cell_type": "code",
   "execution_count": null,
   "metadata": {},
   "outputs": [],
   "source": [
    "class Animal:\n",
    "    _x =10\n",
    "    def test(self):\n",
    "        print('Animal._x:', Animal._x, 'self._x:', self._x)\n",
    "class Dog(Animal):\n",
    "    def test2(self):\n",
    "        print('Dog._x:', Dog._x, 'self._x:', self._x)\n",
    "a = Animal()\n",
    "a.test()                        #1. 类的内部可以访问受保护属性\n",
    "d = Dog()\n",
    "d.test2()           #2. 衍生类（子类）内部可以访问类的受保护属性\n",
    "print('Animal._x:', Animal._x)  #3. 当前模块内可以访问类的公有属性\n",
    "print('Dog._x:', Dog._x)\n",
    "print('a._x:', a._x)\n",
    "print('d._x:', d._x)\n",
    "\n",
    "import classDef                 #4.1 可以访问跨模块的受保护变量\n",
    "print('classDef._varIntModPro:', classDef._varIntModPro)\n",
    "from classDef import *  #4.2 此种导入方式不可访问跨模块的受保护变量\n",
    "print('_varIntModPro:', _varIntModPro)"
   ]
  },
  {
   "cell_type": "markdown",
   "metadata": {},
   "source": [
    "2.4 公有属性和变量的访问权限"
   ]
  },
  {
   "cell_type": "code",
   "execution_count": null,
   "metadata": {},
   "outputs": [],
   "source": [
    "class Animal:\n",
    "    x =10\n",
    "    def test(self):\n",
    "        print('Animal.x:', Animal.x,'self.x:',self.x)\n",
    "class Dog(Animal):\n",
    "    def test2(self):\n",
    "        print('Dog.x:',Dog.x,'self.x:',self.x)\n",
    "a = Animal()\n",
    "a.test()                    #1. 类的内部可以访问公有属性\n",
    "d = Dog()\n",
    "d.test2()                   #2. 衍生类（子类）内部可以访问类的公有属性\n",
    "print('Animal.x:', Animal.x)    #3. 当前模块内可以访问类的公有属性\n",
    "print('Dog.x:',Dog.x)\n",
    "print('a.x:',a.x)\n",
    "print('d.x:',d.x)\n",
    "import classDef             #4. 跨模块内可以访问公有变量\n",
    "print('classDef.varIntModPub:', classDef.varIntModPub)\n",
    "from classDef import *\n",
    "print('varIntModPub:',varIntModPub)"
   ]
  },
  {
   "cell_type": "markdown",
   "metadata": {},
   "source": [
    "2.2 类属性(增、查、改、删)"
   ]
  },
  {
   "cell_type": "code",
   "execution_count": null,
   "metadata": {},
   "outputs": [],
   "source": [
    "class Money:                                #1. 定义类\n",
    "    age =18                                 #2.1 给类增加属性\n",
    "    num = 666\n",
    "    pass\n",
    "class Test:\n",
    "    sex = 'Male'\n",
    "\n",
    "Money.count = 1                             #2.2 给类增加属性\n",
    "print('Money.count:',Money.count)\n",
    "print('Money.__dict__:',Money.__dict__,'\\n')\n",
    "\n",
    "print('Money.age:',Money.age)               #3.1 通过类访问类属性\n",
    "print('Money.num:',Money.num)\n",
    "print('Money.__dict__:',Money.__dict__,'\\n')\n",
    "one = Money()                               #3.2 通过对象访问类属性\n",
    "print('one.age:',one.age)\n",
    "print('one.num:',one.num)\n",
    "\n",
    "one.__class__ = Test                       #3.3 python对象的属性查找机制\n",
    "print('one.__class__',one.__class__)\n",
    "# print('one.age:',one.age)\n",
    "print('one.sex:',one.sex)\n",
    "one.sex = 'Femal'\n",
    "print('one.sex:',one.sex,'\\n')\n",
    "\n",
    "Money.age = 22                              #4.1 通过类名修改类属性\n",
    "print('Money.age:',Money.age)\n",
    "one = Money()\n",
    "one.age = 19                                #4.2 不可通过对象修改类属性\n",
    "print('one.__dict__',one.__dict__)\n",
    "print('Money.age:',Money.age)\n",
    "\n",
    "del Money.age                               #5. 删除类属性\n",
    "# print(Money.age,'\\n')"
   ]
  },
  {
   "cell_type": "code",
   "execution_count": null,
   "metadata": {},
   "outputs": [],
   "source": [
    "class Money:                                #6. 类属性内存存储\n",
    "    pass\n",
    "one = Money()\n",
    "one.age = 18\n",
    "one.height = 180\n",
    "print('one.__dict__:',one.__dict__)\n",
    "one.age = 19\n",
    "print('one.__dict__:',one.__dict__)\n",
    "\n",
    "two = Money()\n",
    "two.__dict__ = {'Name':'Susan','age':20}\n",
    "print('two.Name:',two.Name)\n",
    "\n",
    "class Money:\n",
    "    name = 'Susan'\n",
    "    age = 20\n",
    "# Money.__dict__ = {'Sex':'Male'}           #类对象的__dict__为只读；默认无法修改\n",
    "print('Money.__dict__:',Money.__dict__)"
   ]
  },
  {
   "cell_type": "markdown",
   "metadata": {},
   "source": [
    "2.1 对象属性(对象属性增、查、改、删)"
   ]
  },
  {
   "cell_type": "code",
   "execution_count": null,
   "metadata": {},
   "outputs": [],
   "source": [
    "class Person:                           #1. 定义类\n",
    "    pass\n",
    "p = Person()                            #2. 创建一个化对象\n",
    "p.age = 18                              #3. 给对象增加一些属性\n",
    "p.height = 180\n",
    "print('p.age:',p.age)                   #4. 验证是否有添加成功\n",
    "print('p.__dict__:',p.__dict__)\n",
    "\n",
    "p.age = 123                             #5. 修改对象属性\n",
    "print('p.age = 123:',p.age)\n",
    "# print('p.sex:',p.sex)\n",
    "\n",
    "p.pets = ['小花', '小黑']\n",
    "print(p.pets,id(p.pets))\n",
    "p.pets.append('小黄')\n",
    "print(p.pets,id(p.pets))\n",
    "p.pets = [1, 2]\n",
    "print(p.pets,id(p.pets))\n",
    "# print(p.sex)                          #6. 删除对象属性\n",
    "p.sex = 'Man'\n",
    "del p.sex\n",
    "# print(p.sex)\n",
    "\n",
    "p1 = Person()\n",
    "p1.address = '上海'\n",
    "# print('p.address',p.address)          #7. 不同对象不能访问对方属性"
   ]
  },
  {
   "cell_type": "markdown",
   "metadata": {},
   "source": [
    "参考：\n",
    "1.【Python】零基础入门——面向对象编程（强烈推荐）, bilibili, Leofaith\n",
    "https://www.bilibili.com/video/BV1A4411v7b2?spm_id_from=333.337.search-card.all.click"
   ]
  }
 ],
 "metadata": {
  "interpreter": {
   "hash": "0ec66bbe782f389edb8615b95e71913b48001538f92dc4d53a6c71a0eff16772"
  },
  "kernelspec": {
   "display_name": "Python 3.9.12 64-bit",
   "language": "python",
   "name": "python3"
  },
  "language_info": {
   "codemirror_mode": {
    "name": "ipython",
    "version": 3
   },
   "file_extension": ".py",
   "mimetype": "text/x-python",
   "name": "python",
   "nbconvert_exporter": "python",
   "pygments_lexer": "ipython3",
   "version": "3.9.12"
  },
  "orig_nbformat": 4
 },
 "nbformat": 4,
 "nbformat_minor": 2
}
