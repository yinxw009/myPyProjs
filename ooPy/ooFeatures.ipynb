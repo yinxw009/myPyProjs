{
 "cells": [
  {
   "cell_type": "markdown",
   "metadata": {},
   "source": [
    "5. 三大特性\n",
    "   <封装><继承><多态>"
   ]
  },
  {
   "cell_type": "markdown",
   "metadata": {},
   "source": [
    "5.4 抽象类、方法"
   ]
  },
  {
   "cell_type": "code",
   "execution_count": null,
   "metadata": {},
   "outputs": [],
   "source": [
    "import abc\n",
    "class Animal(object, metaclass= abc.ABCMeta):\n",
    "    @abc.abstractmethod\n",
    "    def bark(self):\n",
    "        pass\n",
    "class Dog(Animal):\n",
    "    # def bark(self):\n",
    "    #     print(\"汪汪汪\")\n",
    "    pass\n",
    "class Cat(Animal):\n",
    "    def bark(self):\n",
    "        print(\"喵喵喵\")\n",
    "d = Dog()\n",
    "d.bark()          #报错，抽象方法不可直接调用\n",
    "# a = Animal()    #报错，抽象类不可直接用于创建实例"
   ]
  },
  {
   "cell_type": "markdown",
   "metadata": {},
   "source": [
    "5.3 多态"
   ]
  },
  {
   "cell_type": "code",
   "execution_count": null,
   "metadata": {},
   "outputs": [],
   "source": [
    "class Animal(object):\n",
    "    def bark(self):\n",
    "        pass\n",
    "class Dog(Animal):\n",
    "    def bark(self):\n",
    "        print(\"汪汪汪\")\n",
    "class Cat(Animal):\n",
    "    def bark(self):\n",
    "        print(\"喵喵喵\")\n",
    "\n",
    "def test(obj):\n",
    "    obj.bark()\n",
    "\n",
    "c = Cat()\n",
    "d = Dog()\n",
    "test(c)\n",
    "test(d)"
   ]
  },
  {
   "cell_type": "markdown",
   "metadata": {},
   "source": [
    "5.2 继承"
   ]
  },
  {
   "cell_type": "markdown",
   "metadata": {},
   "source": [
    "5.2.2 继承<资源的累加>"
   ]
  },
  {
   "cell_type": "code",
   "execution_count": null,
   "metadata": {},
   "outputs": [],
   "source": []
  },
  {
   "cell_type": "code",
   "execution_count": null,
   "metadata": {},
   "outputs": [],
   "source": [
    "class B:                            # 场景一\n",
    "    a = 1\n",
    "    def __init__(self):\n",
    "        self.b = 2\n",
    "    def t1(self):\n",
    "        print(\"cls B t1 ca lled\")\n",
    "    @classmethod\n",
    "    def t2(cls):\n",
    "        print(\"cls B t2 called\")\n",
    "    @staticmethod\n",
    "    def t3():\n",
    "        print(\"cls B t3 called\")\n",
    "\n",
    "class A(B):\n",
    "    c = 3\n",
    "    def __init__(self):\n",
    "        self.e = \"666\"\n",
    "    def tt1(self):\n",
    "        print(\"cls A t1 called\")\n",
    "    @classmethod\n",
    "    def tt2(cls):\n",
    "        print(\"cls A t2 called\")\n",
    "    @staticmethod\n",
    "    def tt3():\n",
    "        print(\"cls A t3 called\")\n",
    "\n",
    "a_obj = A()\n",
    "print('A.a:', A.a)\n",
    "# print('a_obj.b:', a_obj.b)  #A类重写init方法后，无法继承B的init，报错\n",
    "\n",
    "a_obj.t1()\n",
    "A.t2()\n",
    "A.t3()                          # 类和对象均可调用静态方法\n",
    "\n",
    "print(A.c)\n",
    "a_obj.tt1()\n",
    "A.tt2()\n",
    "A.tt3()\n",
    "\n",
    "a_obj.d = \"xxx\"\n",
    "print(a_obj.d)\n",
    "print(a_obj.e)"
   ]
  },
  {
   "cell_type": "markdown",
   "metadata": {},
   "source": [
    "5.2.2 继承<资源的覆盖>"
   ]
  },
  {
   "cell_type": "markdown",
   "metadata": {},
   "source": [
    "5.2.2 继承<资源的使用>"
   ]
  },
  {
   "cell_type": "markdown",
   "metadata": {},
   "source": [
    "5.2.2.1 继承<资源的使用><MRO, C3算法>"
   ]
  },
  {
   "cell_type": "markdown",
   "metadata": {},
   "source": [
    "5.2.2.1 继承<资源的使用><MRO, Method Resolution Order方法解析顺序>"
   ]
  },
  {
   "cell_type": "code",
   "execution_count": null,
   "metadata": {},
   "outputs": [],
   "source": [
    "import inspect\n",
    "class D(object):\n",
    "    age = \"d\"\n",
    "class C(D):\n",
    "    age = \"c\"\n",
    "class B(D):\n",
    "    age = \"b\"\n",
    "class A(B, C):\n",
    "    age = \"a\"\n",
    "\n",
    "print(inspect.getmro(A))"
   ]
  },
  {
   "cell_type": "code",
   "execution_count": null,
   "metadata": {},
   "outputs": [],
   "source": [
    "import inspect\n",
    "class E(object):\n",
    "    age = \"e\"\n",
    "class D(object):\n",
    "    age = \"d\"\n",
    "class C(E):\n",
    "    age = \"c\"\n",
    "class B(D):\n",
    "    age = \"b\"\n",
    "class A(B, C):\n",
    "    age = \"a\"\n",
    "\n",
    "print(inspect.getmro(A))"
   ]
  },
  {
   "cell_type": "code",
   "execution_count": null,
   "metadata": {},
   "outputs": [],
   "source": [
    "class C(object):\n",
    "    age = \"c\"\n",
    "class B(C):\n",
    "    age = \"b\"\n",
    "class A(B):\n",
    "    age = \"a\"\n",
    "\n",
    "print(A.mro())"
   ]
  },
  {
   "cell_type": "markdown",
   "metadata": {},
   "source": [
    "5.2.1 继承<资源的继承>"
   ]
  },
  {
   "cell_type": "code",
   "execution_count": null,
   "metadata": {},
   "outputs": [],
   "source": [
    "# <继承语法格式>\n",
    "class Animal:\n",
    "    pass\n",
    "class xxx:\n",
    "    pass\n",
    "class Dog(Animal):          #单继承\n",
    "    pass\n",
    "class Dog1(Animal, xxx):    #多继承\n",
    "    pass\n",
    "\n",
    "print('Dog1.__bases__:', Dog1.__bases__)#查看父类"
   ]
  },
  {
   "cell_type": "markdown",
   "metadata": {},
   "source": [
    "5.1 封装"
   ]
  },
  {
   "cell_type": "code",
   "execution_count": null,
   "metadata": {},
   "outputs": [],
   "source": [
    "# 监听对象生命周期的方法-小案例\n",
    "# Person, 打印一下, 当前这个时刻, 由Person类, 产生的实例, 有多少个\n",
    "# 创建了一个实例, 计数 + 1, 如果, 删除了一个实例, 计数 - 1\n",
    "class Person:\n",
    "    counter = 0\n",
    "    def __init__(self):\n",
    "        # Person.counter += 1\n",
    "        print('Obj created: %d'%self.counter)\n",
    "    def __del__(self):\n",
    "        # Person.counter -= 1\n",
    "        print('Obj deleted: %d'%self.counter)\n",
    "\n",
    "p = Person()\n",
    "print(Person.counter)\n",
    "p1 = Person()\n",
    "print(Person.counter)\n",
    "del p1\n",
    "print(Person.counter)\n"
   ]
  },
  {
   "cell_type": "code",
   "execution_count": null,
   "metadata": {},
   "outputs": [],
   "source": [
    "class Person:\n",
    "    # def __new__(cls, *args, **kwargs):\n",
    "    #     print(\"新建了一个对象, 但是, 被我拦截了\")\n",
    "    def __init__(self):\n",
    "        print(\"初始化方法\")\n",
    "        self.name = \"Susan\"\n",
    "    def __del__(self):\n",
    "        print(\"这个对象被释放了\")\n",
    "    pass\n",
    "\n",
    "p = Person()\n",
    "print(p.name)\n",
    "print(p)\n",
    "# del p"
   ]
  },
  {
   "cell_type": "markdown",
   "metadata": {},
   "source": [
    "参考：\n",
    "1.【Python】零基础入门——面向对象编程（强烈推荐）, bilibili, Leofaith\n",
    "https://www.bilibili.com/video/BV1A4411v7b2?spm_id_from=333.337.search-card.all.click"
   ]
  }
 ],
 "metadata": {
  "interpreter": {
   "hash": "0ec66bbe782f389edb8615b95e71913b48001538f92dc4d53a6c71a0eff16772"
  },
  "kernelspec": {
   "display_name": "Python 3.9.12 64-bit",
   "language": "python",
   "name": "python3"
  },
  "language_info": {
   "codemirror_mode": {
    "name": "ipython",
    "version": 3
   },
   "file_extension": ".py",
   "mimetype": "text/x-python",
   "name": "python",
   "nbconvert_exporter": "python",
   "pygments_lexer": "ipython3",
   "version": "3.9.12"
  },
  "orig_nbformat": 4
 },
 "nbformat": 4,
 "nbformat_minor": 2
}
