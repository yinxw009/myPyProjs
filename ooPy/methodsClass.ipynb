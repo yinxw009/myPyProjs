{
 "cells": [
  {
   "cell_type": "markdown",
   "metadata": {},
   "source": [
    "3. methods方法--Python面向对象"
   ]
  },
  {
   "cell_type": "markdown",
   "metadata": {},
   "source": [
    "3.6 内置特殊方法"
   ]
  },
  {
   "cell_type": "markdown",
   "metadata": {},
   "source": [
    "3.6.9 生命周期方法"
   ]
  },
  {
   "cell_type": "code",
   "execution_count": null,
   "metadata": {},
   "outputs": [],
   "source": []
  },
  {
   "cell_type": "markdown",
   "metadata": {},
   "source": [
    "3.6.8 类装饰器"
   ]
  },
  {
   "cell_type": "code",
   "execution_count": null,
   "metadata": {},
   "outputs": [],
   "source": [
    "def check(func):\n",
    "    def inner():\n",
    "        print(\"登录验证：函数装饰器\")\n",
    "        func()\n",
    "    return inner\n",
    "\n",
    "class check:\n",
    "    def __init__(self, func):\n",
    "        self.f = func\n",
    "\n",
    "    def __call__(self, *args, **kwargs):\n",
    "        print(\"登录验证：类装饰器\")\n",
    "        self.f()\n",
    "\n",
    "@check\n",
    "def fashuoshuo():\n",
    "    print(\"发说说\")\n",
    "# fashuoshuo = check(fashuoshuo)\n",
    "fashuoshuo()"
   ]
  },
  {
   "cell_type": "markdown",
   "metadata": {},
   "source": [
    "3.6.7 描述器"
   ]
  },
  {
   "cell_type": "code",
   "execution_count": null,
   "metadata": {},
   "outputs": [],
   "source": [
    "# 描述器-值的存储问题\n",
    "class Age(object):\n",
    "    def __get__(self, instance, owner):\n",
    "        print(\"get\")\n",
    "        return instance.v\n",
    "    def __set__(self, instance, value):\n",
    "        print(\"set\", self, instance, value)\n",
    "        instance.v = value\n",
    "    def __delete__(self, instance):\n",
    "        print(\"delete\")\n",
    "        del instance.v\n",
    "class Person(object):\n",
    "    age = Age()\n",
    "\n",
    "p = Person()\n",
    "p.age = 10\n",
    "print('p.age:', p.age)\n",
    "# del p.age\n",
    "\n",
    "p2 = Person()\n",
    "p2.age = 11\n",
    "print('p2.age:', p2.age)\n",
    "print('p.age:', p.age)"
   ]
  },
  {
   "cell_type": "code",
   "execution_count": null,
   "metadata": {},
   "outputs": [],
   "source": [
    "# 描述器-和实例属性同名时, 操作优先级\n",
    "# 资料描述器 get set\n",
    "# 非资料描述器 仅仅实现了 get 方法, 那么他就是一个非资料描述器\n",
    "# 资料描述器 > 实例属性 > 非资料描述器\n",
    "class Age(object):\n",
    "    def __get__(self, instance, owner):\n",
    "        print(\"get\")\n",
    "    # def __set__(self, instance, value):\n",
    "    #     print(\"set\")\n",
    "    # def __delete__(self, instance):\n",
    "    #     print(\"delete\")\n",
    "\n",
    "class Person(object):\n",
    "    age = Age()\n",
    "    def __init__(self):\n",
    "        self.age = 10\n",
    "\n",
    "p = Person()\n",
    "p.age = 10\n",
    "print(p.age)\n",
    "# del p.age\n",
    "print(p.__dict__)"
   ]
  },
  {
   "cell_type": "code",
   "execution_count": null,
   "metadata": {},
   "outputs": [],
   "source": [
    "# 定义方式二\n",
    "class Age:\n",
    "    def __get__(self, instance, owner):\n",
    "        print(\"get\")\n",
    "    def __set__(self, instance, value):\n",
    "        print(\"set\")\n",
    "    def __delete__(self, instance):\n",
    "        print(\"delete\")\n",
    "\n",
    "class Person:\n",
    "    age = Age()\n",
    "\n",
    "# p = Person()\n",
    "# p.age = 10\n",
    "# print(p.age)\n",
    "# del p.age\n",
    "\n",
    "print(Person.age)\n",
    "Person.age = 19         #描述器一般通过实例操作，类只能调用get\n",
    "del Person.age"
   ]
  },
  {
   "cell_type": "code",
   "execution_count": null,
   "metadata": {},
   "outputs": [],
   "source": [
    "# 定义方式一.2\n",
    "class Person:\n",
    "    def __init__(self):\n",
    "        self.__age = 10\n",
    "    @property\n",
    "    def age(self):\n",
    "        return self.__age\n",
    "    @age.setter\n",
    "    def age(self, value):\n",
    "        if value < 0:\n",
    "            value = 0\n",
    "        self.__age = value\n",
    "    @age.deleter\n",
    "    def age(self):\n",
    "        print(\"del age\")\n",
    "        del self.__age\n",
    "    name = \"Susan\"\n",
    "\n",
    "p = Person()\n",
    "p.age = 19\n",
    "print(p.age)\n",
    "del p.age\n",
    "# print(p.age)\n",
    "\n",
    "# help(Person)"
   ]
  },
  {
   "cell_type": "code",
   "execution_count": null,
   "metadata": {},
   "outputs": [],
   "source": [
    "# 定义方式一.1\n",
    "class Person:\n",
    "    def __init__(self):\n",
    "        self.__age = 10\n",
    "    def get_age(self):\n",
    "        return self.__age\n",
    "    def set_age(self, value):\n",
    "        if value < 0:\n",
    "            value = 0\n",
    "        self.__age = value\n",
    "    def del_age(self):\n",
    "        print(\"del age\")\n",
    "        del self.__age\n",
    "    age = property(get_age, set_age, del_age)\n",
    "    name = \"Susan\"\n",
    "\n",
    "p = Person()\n",
    "p.age = 19\n",
    "print(p.age)\n",
    "del p.age\n",
    "# print(p.age)\n",
    "\n",
    "# help(Person)"
   ]
  },
  {
   "cell_type": "markdown",
   "metadata": {},
   "source": [
    "3.6.6 遍历操作"
   ]
  },
  {
   "cell_type": "code",
   "execution_count": null,
   "metadata": {},
   "outputs": [],
   "source": [
    "# iter函数的使用\n",
    "print('iter([1, 2, 3]):',iter([1, 2, 3]))\n",
    "\n",
    "class Person:\n",
    "    def __init__(self):\n",
    "        self.age = 1\n",
    "    # def __getitem__(self, item):\n",
    "    #     self.age += 1\n",
    "    #     if self.age >= 6:\n",
    "    #         raise StopIteration(\"stop\")\n",
    "    #     return self.age\n",
    "    def __iter__(self):\n",
    "        self.age = 1\n",
    "        return self\n",
    "    def __next__(self):\n",
    "        self.age += 1\n",
    "        if self.age >= 6:\n",
    "            raise StopIteration(\"stop\")\n",
    "        return self.age\n",
    "    def __call__(self, *args, **kwargs):\n",
    "        self.age += 1\n",
    "        if self.age >= 6:\n",
    "            raise StopIteration(\"stop\")\n",
    "        return self.age\n",
    "p = Person()\n",
    "print('iter(p):', iter(p))\n",
    "print('iter(p) address same as p ?', iter(p) is p)\n",
    "\n",
    "# pt = iter(p.__next__, 4)\n",
    "pt = iter(p, 4)\n",
    "for i in pt:\n",
    "    print(i)"
   ]
  },
  {
   "cell_type": "code",
   "execution_count": null,
   "metadata": {},
   "outputs": [],
   "source": [
    "class Person:\n",
    "    def __init__(self):\n",
    "        self.age = 1\n",
    "    def __iter__(self):\n",
    "        self.age = 1\n",
    "        return self\n",
    "    def __next__(self):\n",
    "        self.age += 1\n",
    "        if self.age >= 6:\n",
    "            raise StopIteration(\"stop\")\n",
    "        return self.age\n",
    "p = Person()\n",
    "for i in p:\n",
    "    print(i)\n",
    "print('p.age:',p.age)\n",
    "for i in p:\n",
    "    print(i)\n",
    "\n",
    "import collections\n",
    "print(isinstance(p, collections.Iterator))"
   ]
  },
  {
   "cell_type": "code",
   "execution_count": null,
   "metadata": {},
   "outputs": [],
   "source": [
    "# 方式2\n",
    "class Person:\n",
    "    def __init__(self):\n",
    "        self.result = 1\n",
    "    def __iter__(self):\n",
    "        print(\"iter\")\n",
    "        # self.result = 1\n",
    "        # return iter([1, 2, 3, 4, 5])\n",
    "        return self\n",
    "    def __next__(self):\n",
    "        self.result += 1\n",
    "        if self.result >= 6:\n",
    "            raise StopIteration(\"停止遍历\")\n",
    "        return self.result\n",
    "\n",
    "p = Person()\n",
    "# for i in p:\n",
    "#     print(i)\n",
    "\n",
    "print(next(p))\n",
    "print(next(p))\n",
    "print(next(p))\n",
    "print(next(p))\n",
    "# print(next(p))"
   ]
  },
  {
   "cell_type": "code",
   "execution_count": null,
   "metadata": {},
   "outputs": [],
   "source": [
    "class Person:\n",
    "    def __init__(self):\n",
    "        self.result = 1\n",
    "    def __getitem__(self, item):\n",
    "        self.result += 1\n",
    "        if self.result >= 6:\n",
    "            raise StopIteration(\"停止遍历\")\n",
    "        return self.result\n",
    "\n",
    "p = Person()\n",
    "for i in p:\n",
    "    print(i)"
   ]
  },
  {
   "cell_type": "markdown",
   "metadata": {},
   "source": [
    "3.6.5 比较操作"
   ]
  },
  {
   "cell_type": "code",
   "execution_count": null,
   "metadata": {},
   "outputs": [],
   "source": [
    "#上下文环境中的bool值\n",
    "class Person:\n",
    "    def __init__(self):\n",
    "        self.age = 20\n",
    "    def __bool__(self):\n",
    "        return self.age >= 18\n",
    "        # return False\n",
    "\n",
    "p = Person()\n",
    "if p:\n",
    "    print(\"xx\")"
   ]
  },
  {
   "cell_type": "code",
   "execution_count": null,
   "metadata": {},
   "outputs": [],
   "source": [
    "import functools\n",
    "@functools.total_ordering\n",
    "class Person:\n",
    "    def __lt__(self, other):\n",
    "        print(\"lt\")\n",
    "        return False\n",
    "    def __eq__(self, other):\n",
    "        print(\"eq\")\n",
    "    # def __le__(self, other):\n",
    "    #     print(\"le\")\n",
    "\n",
    "p1 = Person()\n",
    "p2 = Person()\n",
    "print('p1 <= p2:', p1 <= p2)\n",
    "print(Person.__dict__)"
   ]
  },
  {
   "cell_type": "code",
   "execution_count": null,
   "metadata": {},
   "outputs": [],
   "source": [
    "class Person:\n",
    "    def __init__(self, age, height):\n",
    "        self.age = age\n",
    "        self.height = height\n",
    "    # == != > >= < <=\n",
    "    def __eq__(self, other):\n",
    "        print(\"eq, other:\",other)\n",
    "        return self.age == other.age\n",
    "    def __ne__(self, other):\n",
    "        pass\n",
    "    def __gt__(self, other):\n",
    "        pass\n",
    "    def __ge__(self, other):\n",
    "        pass\n",
    "    def __lt__(self, other):\n",
    "        # print(\"lt\")\n",
    "        print(self.age)\n",
    "        print(other.age)\n",
    "        return self.age < other.age\n",
    "    def __le__(self, other):\n",
    "        pass\n",
    "  \n",
    "p1 = Person(18, 190)\n",
    "p2 = Person(19, 190)\n",
    "# print(p1 < p2)\n",
    "# print(p1 <= p2) # p2 < p1\n",
    "print(p1 == p2)\n",
    "# print(p1 != p2)\n",
    "# print(p1 <= p2)\n",
    "\n",
    "print('p1:', p1, 'p2', p2)"
   ]
  },
  {
   "cell_type": "markdown",
   "metadata": {},
   "source": [
    "3.6.4 切片操作"
   ]
  },
  {
   "cell_type": "code",
   "execution_count": null,
   "metadata": {},
   "outputs": [],
   "source": [
    "class Person:\n",
    "\n",
    "    def __init__(self):\n",
    "        self.items = [1, 2, 3, 4, 5, 6, 7, 8]\n",
    "\n",
    "    def __setitem__(self, key, value):\n",
    "        # print(key, value)\n",
    "        # print(key.start)\n",
    "        # print(key.stop)\n",
    "        # print(key.step)\n",
    "        # print(value)\n",
    "        # self.items[key] = value\n",
    "        if isinstance(key, slice):\n",
    "            self.items[key.start: key.stop: key.step] = value\n",
    "\n",
    "    def __getitem__(self, item):\n",
    "        print(\"getitem\", item)\n",
    "\n",
    "    def __delitem__(self, key):\n",
    "        print(\"delitem\", key)\n",
    "\n",
    "p = Person()\n",
    "p[0: 4: 2] = [\"a\", \"b\"]\n",
    "print(p.items)\n",
    "slice\n",
    "\n",
    "p[0: 5: 2]\n",
    "del p[0: 5: 2]"
   ]
  },
  {
   "cell_type": "markdown",
   "metadata": {},
   "source": [
    "3.6.3 索引操作"
   ]
  },
  {
   "cell_type": "code",
   "execution_count": null,
   "metadata": {},
   "outputs": [],
   "source": [
    "class Person:\n",
    "    def __init__(self):\n",
    "        self.cache = {}\n",
    "    def __setitem__(self, key, value):\n",
    "        # print(\"setitem\", key, value)\n",
    "        self.cache[key] = value\n",
    "    def __getitem__(self, item):\n",
    "        # print(\"getitem\", item)\n",
    "        return self.cache[item]\n",
    "    def __delitem__(self, key):\n",
    "        # print(\"delitem\", key)\n",
    "        del self.cache[key]\n",
    "\n",
    "p = Person()\n",
    "p[\"name\"] = \"sz\"\n",
    "\n",
    "print(p[\"name\"])\n",
    "\n",
    "del p[\"name\"]\n",
    "\n",
    "# print(p[\"name\"])\n",
    "print(p.cache)"
   ]
  },
  {
   "cell_type": "markdown",
   "metadata": {},
   "source": [
    "3.6.2 调用操作<__call__>"
   ]
  },
  {
   "cell_type": "code",
   "execution_count": null,
   "metadata": {},
   "outputs": [],
   "source": [
    "class PenFactory:\n",
    "    def __init__(self, p_type):\n",
    "        self.p_type = p_type\n",
    "    def __call__(self, p_color):\n",
    "        print(\"创建了一个%s这个类型的画笔, 它是%s颜色\" % (self.p_type, p_color))\n",
    "\n",
    "penFa = PenFactory(\"钢笔\")\n",
    "penFa(\"红色\")\n",
    "penFa(\"黑色\")\n",
    "penFa(\"蓝色\")\n",
    "\n",
    "pencilFa = PenFactory(\"铅笔\")\n",
    "pencilFa(\"红色\")\n",
    "pencilFa(\"绿色\")\n",
    "pencilFa(\"黄色\")"
   ]
  },
  {
   "cell_type": "code",
   "execution_count": null,
   "metadata": {},
   "outputs": [],
   "source": [
    "#偏函数使用场景\n",
    "# 创建很多个画笔, 画笔的类型(钢笔, 铅笔), 画笔的颜色(红, 黄色, 青色, 绿色)\n",
    "# print(\"创建了一个%s这个类型的画笔, 它是%s颜色\" % (\"钢笔\", \"红色\"))\n",
    "# print(\"创建了一个%s这个类型的画笔, 它是%s颜色\" % (\"钢笔\", \"黄色\"))\n",
    "# print(\"创建了一个%s这个类型的画笔, 它是%s颜色\" % (\"钢笔\", \"青色\"))\n",
    "# print(\"创建了一个%s这个类型的画笔, 它是%s颜色\" % (\"钢笔\", \"绿色\"))\n",
    "# print(\"创建了一个%s这个类型的画笔, 它是%s颜色\" % (\"钢笔\", \"橘色\"))\n",
    "\n",
    "def createPen(p_color, p_type):\n",
    "    print(\"创建了一个%s这个类型的画笔, 它是%s颜色\" % (p_type, p_color))\n",
    "\n",
    "# createPen(\"钢笔\", \"红色\")\n",
    "# createPen(\"钢笔\", \"绿色\")\n",
    "# createPen(\"钢笔\", \"黄色\")\n",
    "\n",
    "import functools\n",
    "penFunc = functools.partial(createPen, p_type=\"钢笔\")   #定义偏函数\n",
    "penFunc(\"红色\")\n",
    "penFunc(\"黄色\")\n",
    "penFunc(\"绿色\")"
   ]
  },
  {
   "cell_type": "code",
   "execution_count": null,
   "metadata": {},
   "outputs": [],
   "source": [
    "class Person:\n",
    "    def __call__(self, *args, **kwargs):\n",
    "        print(\"xxx\", args, kwargs)\n",
    "\n",
    "p = Person()\n",
    "p(123, 456, name=\"sz\")"
   ]
  },
  {
   "cell_type": "markdown",
   "metadata": {},
   "source": [
    "3.6.1 信息格式化操作<__str__,__repr__>"
   ]
  },
  {
   "cell_type": "code",
   "execution_count": null,
   "metadata": {},
   "outputs": [],
   "source": [
    "import datetime\n",
    "\n",
    "t = datetime.datetime.now()\n",
    "print('t:', t)\n",
    "print('repr(t):', repr(t))\n",
    "\n",
    "tmp = repr(t)\n",
    "result = eval(tmp)\n",
    "print(result)"
   ]
  },
  {
   "cell_type": "code",
   "execution_count": null,
   "metadata": {},
   "outputs": [],
   "source": [
    "class Person:\n",
    "    def __init__(self, n, a):\n",
    "        self.name = n\n",
    "        self.age = a\n",
    "    def __str__(self):      #对象描述字符串, 面向用户\n",
    "        return \"The name is:%s, The age is:%s\" % (self.name, self.age)\n",
    "    def __repr__(self):     #对象描述字符串, 面向开发人员户\n",
    "        return \"reprxxxxx\"\n",
    "p1 = Person(\"Mike\", 28)\n",
    "# print('p1.name:', p1.name, 'p1.age:', p1.age)\n",
    "print('p1:', p1)\n",
    "p2 = Person(\"Amy\", 9)\n",
    "# print('p2.name:', p2.name, 'p2.age:', p2.age)\n",
    "print('p2:',p2)\n",
    "\n",
    "s = str(p1)\n",
    "print('s = str(p1):', s, type(s))\n",
    "print('p1:', p1, type(p1),'\\n')\n",
    "\n",
    "print('repr(p1):', repr(p1), 'repr(p2):',repr(p2))  #repr函数、交互模式变量名称调用\n",
    "p2"
   ]
  },
  {
   "cell_type": "markdown",
   "metadata": {},
   "source": [
    "3.5 私有方法"
   ]
  },
  {
   "cell_type": "code",
   "execution_count": null,
   "metadata": {},
   "outputs": [],
   "source": []
  },
  {
   "cell_type": "markdown",
   "metadata": {},
   "source": [
    "3.4 不同方法访问不同属性权限"
   ]
  },
  {
   "cell_type": "code",
   "execution_count": null,
   "metadata": {},
   "outputs": [],
   "source": [
    "class Person:\n",
    "    age = 0                                 #类属性\n",
    "    def insFunc(self):\n",
    "        print('self:',self,'self.age:',self.age)\n",
    "        # print('self.num:',self.num)\n",
    "    @classmethod\n",
    "    def clsFunc(cls):\n",
    "        print('cls:',cls,'cls.age:',cls.age)\n",
    "        # print('cls.num:',cls.num)\n",
    "    @staticmethod\n",
    "    def staFunc():\n",
    "        print('Person.age:',Person.age)     #无类、实例形参，通过类访问类属性\n",
    "\n",
    "p = Person()\n",
    "p.num = 10                                  #实例属性\n",
    "p.insFunc()                         #1. 实例方法可访问类属性、实例属性\n",
    "\n",
    "p.clsFunc()                         #2. 类方法不可访问实例属性num\n",
    "Person.clsFunc()\n",
    "\n",
    "p.staFunc()\n",
    "Person.staFunc()"
   ]
  },
  {
   "cell_type": "markdown",
   "metadata": {},
   "source": [
    "3.3 方法划分<静态方法>"
   ]
  },
  {
   "cell_type": "code",
   "execution_count": null,
   "metadata": {},
   "outputs": [],
   "source": [
    "class Person:\n",
    "    @staticmethod                               #1 定义静态方法语法\n",
    "    def staFunc(arg):\n",
    "        print('This is a static mechtod.',arg)\n",
    "\n",
    "Person.staFunc(33)                              #2.1 通过类调用静态方法\n",
    "p = Person()\n",
    "p.staFunc([1,2,3])                              #2.2 通过实例调用静态方法\n",
    "func = Person.staFunc                           #2.3 间接调用静态方法\n",
    "func('\\n')"
   ]
  },
  {
   "cell_type": "markdown",
   "metadata": {},
   "source": [
    "3.2 方法划分<类方法>"
   ]
  },
  {
   "cell_type": "code",
   "execution_count": null,
   "metadata": {},
   "outputs": [],
   "source": [
    "class Person:\n",
    "    @classmethod                                 #1 定义类方法语法\n",
    "    def clsFunc(cls,arg):\n",
    "        print('This is a class mechtod.',cls,arg)\n",
    "\n",
    "Person.clsFunc(663)                              #2.1 通过类调用\n",
    "p = Person()\n",
    "p.clsFunc('Name')                                #2.2 通过实例调用\n",
    "func = Person.clsFunc                            #2.3 间接调用\n",
    "func('\\n')\n",
    "#访问类属性\n",
    "#访问实例属性"
   ]
  },
  {
   "cell_type": "markdown",
   "metadata": {},
   "source": [
    "3.1 方法划分<实例方法>"
   ]
  },
  {
   "cell_type": "code",
   "execution_count": null,
   "metadata": {},
   "outputs": [],
   "source": [
    "class Person:\n",
    "    def insFunc(self,arg):                          #1 定义实例方法语法\n",
    "        print('This is a instance mechtod.',self,arg)\n",
    "\n",
    "    def insFunc2(xxx):\n",
    "        print('Instance function, default parameter: xxx')\n",
    "\n",
    "\n",
    "p = Person()                                        #2.1 通过实例调用\n",
    "p.insFunc('Name')\n",
    "p.insFunc2()\n",
    "Person.insFunc(p,[1,2,3])                           #2.2 通过类调用\n",
    "func = p.insFunc                                    #2.3 间接调用\n",
    "func('\\n')\n",
    "\n",
    "#访问类属性\n",
    "#访问实例属性"
   ]
  },
  {
   "cell_type": "markdown",
   "metadata": {},
   "source": [
    "参考：\n",
    "1.【Python】零基础入门——面向对象编程（强烈推荐）, bilibili, Leofaith\n",
    "https://www.bilibili.com/video/BV1A4411v7b2?spm_id_from=333.337.search-card.all.click"
   ]
  }
 ],
 "metadata": {
  "interpreter": {
   "hash": "0ec66bbe782f389edb8615b95e71913b48001538f92dc4d53a6c71a0eff16772"
  },
  "kernelspec": {
   "display_name": "Python 3.9.12 64-bit",
   "language": "python",
   "name": "python3"
  },
  "language_info": {
   "codemirror_mode": {
    "name": "ipython",
    "version": 3
   },
   "file_extension": ".py",
   "mimetype": "text/x-python",
   "name": "python",
   "nbconvert_exporter": "python",
   "pygments_lexer": "ipython3",
   "version": "3.9.12"
  },
  "orig_nbformat": 4
 },
 "nbformat": 4,
 "nbformat_minor": 2
}
