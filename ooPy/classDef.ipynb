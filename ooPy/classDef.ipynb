{
 "cells": [
  {
   "cell_type": "markdown",
   "metadata": {},
   "source": [
    "1. 类概念、定义"
   ]
  },
  {
   "cell_type": "markdown",
   "metadata": {},
   "source": [
    "1.4.1 property在新式类的使用"
   ]
  },
  {
   "cell_type": "code",
   "execution_count": null,
   "metadata": {},
   "outputs": [],
   "source": []
  },
  {
   "cell_type": "markdown",
   "metadata": {},
   "source": [
    "1.4 经典类、新式类(继承自Object的类)"
   ]
  },
  {
   "cell_type": "code",
   "execution_count": null,
   "metadata": {},
   "outputs": [],
   "source": [
    "class Person:   #python3.x会隐式的继承自object,默认情况下为新式类\n",
    "    pass\n",
    "print(Person.__bases__)\n",
    "#python2.x如果没有显式的继承自object,那么这个类是一个经典类.\n",
    "#必须显示的继承自object,它才是一个新式类"
   ]
  },
  {
   "cell_type": "markdown",
   "metadata": {},
   "source": [
    " 1.3 类的描述<注释、生产项目文档>"
   ]
  },
  {
   "cell_type": "code",
   "execution_count": null,
   "metadata": {},
   "outputs": [],
   "source": [
    "#3.1 生产项目文档方式一，使用pydoc模块, cmd命令\n",
    ">python -m pydoc classDef           #查看文档描述\n",
    ">python -m pydoc -p 1234            #启动本地服务，浏览文档\n",
    ">python -m pydoc -b\n",
    ">python -m pydoc -w classDef        #生成模块html文档\n",
    "\n",
    "#3.2 生产项目文档方式二\n",
    "#使用第三方模块：epydoc, Sphinx, doxygen..."
   ]
  },
  {
   "cell_type": "code",
   "execution_count": null,
   "metadata": {},
   "outputs": [],
   "source": [
    "class Person:                                  #1 添加类的注释\n",
    "\n",
    "    \"\"\"\n",
    "    类的描述、类的作用；类的构造函数等等；类属性的描述。\n",
    "    此格式(三引号对)的注释可生成项目文档\n",
    "    Attributes:属性的类型、含义等\n",
    "    \"\"\"\n",
    "    count = 1   #'#'开头的注释用于开发人员自己阅读，不生成项目文档\n",
    "    def run(self, distance, step):\n",
    "        \"\"\"\n",
    "        这个方法的作用效果\n",
    "        :param distance 参数的含义，参数的类型，是否有默认值\n",
    "        :step distance\n",
    "        :return: 返回的结果的含义(时间)，返回数据的类型\n",
    "        \"\"\"\n",
    "        print('人在跑')\n",
    "        return distance / step\n",
    "\n",
    "help(Person)"
   ]
  },
  {
   "cell_type": "markdown",
   "metadata": {},
   "source": [
    " 1.2 元类<类的创建流程>"
   ]
  },
  {
   "cell_type": "code",
   "execution_count": null,
   "metadata": {},
   "outputs": [],
   "source": [
    "class Person:                   #1. 元类检索机制5,type创建\n",
    "    pass"
   ]
  },
  {
   "cell_type": "code",
   "execution_count": null,
   "metadata": {},
   "outputs": [],
   "source": [
    "__metaclass__ = xxx\n",
    "class Person:                           #1. 元类检索机制4,模块查找\n",
    "    pass"
   ]
  },
  {
   "cell_type": "code",
   "execution_count": null,
   "metadata": {},
   "outputs": [],
   "source": [
    "class Animal:\n",
    "    __metaclass__ = xxx\n",
    "class Person(Animal):                   #1. 元类检索机制3,父类查找\n",
    "    pass"
   ]
  },
  {
   "cell_type": "code",
   "execution_count": null,
   "metadata": {},
   "outputs": [],
   "source": [
    "class Dog(metaclass = xxx):             #1. 元类检索机制2\n",
    "    pass"
   ]
  },
  {
   "cell_type": "code",
   "execution_count": null,
   "metadata": {},
   "outputs": [],
   "source": [
    "class Person:                           #1. 元类检索机制1\n",
    "    __metaclass__ = xxx"
   ]
  },
  {
   "cell_type": "markdown",
   "metadata": {},
   "source": [
    " 1.2 元类<类的创建方式>"
   ]
  },
  {
   "cell_type": "code",
   "execution_count": null,
   "metadata": {},
   "outputs": [],
   "source": [
    "def run(self):\n",
    "    print('manu create class Dog!')\n",
    "    print('run(self):', self,'\\n')\n",
    "xxx = type('Dog',(),{'count':0, 'run':run})     #2. 手动创建类对象\n",
    "print('xxx:',xxx,'\\n','xxx.__dict__:',xxx.__dict__)\n",
    "d = xxx()\n",
    "print('d:',d)\n",
    "d.run()\n",
    "\n",
    "class Person:                                   #1. 自动创建类对象\n",
    "    count = 0\n",
    "    def run(self):\n",
    "        print('auto create class Person!')\n",
    "p = Person()\n",
    "p.run()"
   ]
  },
  {
   "cell_type": "markdown",
   "metadata": {},
   "source": [
    " 1.2 元类<查看元类'type'>"
   ]
  },
  {
   "cell_type": "code",
   "execution_count": null,
   "metadata": {},
   "outputs": [],
   "source": [
    "print('type.__class__:',type.__class__)       #int类由元类type实例化\n",
    "\n",
    "print('int.__class__:',int.__class__)         #int类由元类type实例化\n",
    "print('str.__class__:',str.__class__)         #str类由元类type实例化\n",
    "print('float.__class__:',float.__class__)     #float类由元类type实例化\n",
    "\n",
    "class Person:\n",
    "    pass\n",
    "\n",
    "print('float.__class__:',float.__class__)   #用户创建类由元类type实例化\n",
    "\n",
    "p = Person()\n",
    "print('p.__class__:',p.__class__)\n",
    "\n",
    "num = 12                        #python万物皆对象，整型数是对象\n",
    "str = 'abc'                     #字符串也是对象\n",
    "flt = 3.14                      #浮点数也是对象\n",
    "print('num.__class__:',num.__class__)\n",
    "print('str.__class__:',str.__class__)\n",
    "print('flt.__class__:',flt.__class__)"
   ]
  },
  {
   "cell_type": "markdown",
   "metadata": {},
   "source": [
    "1.1 类的定义、创建(实例化)一个对象"
   ]
  },
  {
   "cell_type": "code",
   "execution_count": null,
   "metadata": {},
   "outputs": [],
   "source": [
    "class Money:                            #定义类，Money既是当前类名，也是变量名\n",
    "\n",
    "    pass\n",
    "\n",
    "print('Money:',Money)\n",
    "one = Money()                           #实例化对象\n",
    "print('one = Money():',one)\n",
    "print('one.__class__',one.__class__,'\\n')\n",
    "\n",
    "print('Money.__name__:',Money.__name__) #Money是类名称\n",
    "xxx = Money\n",
    "print('xxx = Money:',xxx)\n",
    "print('xxx.__name__:',xxx.__name__)\n",
    "Money = 666                             #Money也是变量名称\n",
    "print('Money = 666:',Money)\n",
    "print('id(Money):',id(Money))           #Money引用着当前这个类"
   ]
  },
  {
   "cell_type": "markdown",
   "metadata": {},
   "source": [
    "参考：\n",
    "1.【Python】零基础入门——面向对象编程（强烈推荐）, bilibili, Leofaith\n",
    "https://www.bilibili.com/video/BV1A4411v7b2?spm_id_from=333.337.search-card.all.click"
   ]
  }
 ],
 "metadata": {
  "interpreter": {
   "hash": "0ec66bbe782f389edb8615b95e71913b48001538f92dc4d53a6c71a0eff16772"
  },
  "kernelspec": {
   "display_name": "Python 3.9.12 64-bit",
   "language": "python",
   "name": "python3"
  },
  "language_info": {
   "codemirror_mode": {
    "name": "ipython",
    "version": 3
   },
   "file_extension": ".py",
   "mimetype": "text/x-python",
   "name": "python",
   "nbconvert_exporter": "python",
   "pygments_lexer": "ipython3",
   "version": "3.9.12"
  },
  "orig_nbformat": 4
 },
 "nbformat": 4,
 "nbformat_minor": 2
}
