{
 "cells": [
  {
   "cell_type": "markdown",
   "metadata": {},
   "source": [
    "在QtDesigner中布局、signal&slot、菜单工具栏、创建主窗口\n",
    "<PyQt5教程，来自网易云课堂, bilibili, 新建文本文档-1>"
   ]
  },
  {
   "cell_type": "code",
   "execution_count": 1,
   "metadata": {},
   "outputs": [],
   "source": [
    "import sys\n",
    "from PyQt5.QtWidgets import QApplication, QMainWindow"
   ]
  },
  {
   "cell_type": "markdown",
   "metadata": {},
   "source": [
    "5. 创建主窗口        <P23 课时24>"
   ]
  },
  {
   "cell_type": "code",
   "execution_count": 2,
   "metadata": {},
   "outputs": [],
   "source": [
    "from PyQt5.QtGui import QIcon\n",
    "class FirstMainWin(QMainWindow):\n",
    "    def __init__(self, parent=None):\n",
    "        super(FirstMainWin,self).__init__(parent)\n",
    "        \n",
    "        #设置主窗口的标题\n",
    "        self.setWindowTitle('第一个主窗口应用')\n",
    "\n",
    "        #设置窗口的尺寸\n",
    "        self.resize(400,300)\n",
    "\n",
    "        self.status = self.statusBar()\n",
    "\n",
    "        self.status.showMessage('只存在5秒的消息',5000)\n",
    "\n",
    "if __name__ == '__main__':\n",
    "    app = QApplication(sys.argv)\n",
    "\n",
    "    # app.setWindowIcon(./)\n",
    "    main = FirstMainWin()\n",
    "    main.show()\n",
    "\n",
    "    sys.exit(app.exec_())\n"
   ]
  },
  {
   "cell_type": "markdown",
   "metadata": {},
   "source": [
    "4. 为窗口添加菜单和工具栏        <P22 课时23>"
   ]
  },
  {
   "cell_type": "code",
   "execution_count": null,
   "metadata": {},
   "outputs": [],
   "source": [
    "import guiQt5ManuBar\n",
    "if __name__ == '__main__':\n",
    "    app = QApplication(sys.argv)\n",
    "    mainWindow = QMainWindow()\n",
    "    ui = guiQt5ManuBar.Ui_MainWindow()\n",
    "    #向主窗口上添加控件\n",
    "    ui.setupUi(mainWindow)\n",
    "    mainWindow.show()\n",
    "    sys.exit(app.exec_())"
   ]
  },
  {
   "cell_type": "markdown",
   "metadata": {},
   "source": [
    "3. Signal & Slot设置        <P21 课时22>"
   ]
  },
  {
   "cell_type": "code",
   "execution_count": null,
   "metadata": {},
   "outputs": [],
   "source": [
    "import guiQt5Slot\n",
    "if __name__ == '__main__':\n",
    "    app = QApplication(sys.argv)\n",
    "    mainWindow = QMainWindow()\n",
    "    ui = guiQt5Slot.Ui_MainWindow()\n",
    "    #向主窗口上添加控件\n",
    "    ui.setupUi(mainWindow)\n",
    "    mainWindow.show()\n",
    "    sys.exit(app.exec_())"
   ]
  },
  {
   "cell_type": "markdown",
   "metadata": {},
   "source": [
    "2. 布局Layout        <P7 课时08 ~ P20 课时21>"
   ]
  },
  {
   "cell_type": "markdown",
   "metadata": {},
   "source": [
    "1. 初识       <P1 课时01 ~ P6 课时07>"
   ]
  }
 ],
 "metadata": {
  "interpreter": {
   "hash": "0ec66bbe782f389edb8615b95e71913b48001538f92dc4d53a6c71a0eff16772"
  },
  "kernelspec": {
   "display_name": "Python 3.9.12 64-bit",
   "language": "python",
   "name": "python3"
  },
  "language_info": {
   "codemirror_mode": {
    "name": "ipython",
    "version": 3
   },
   "file_extension": ".py",
   "mimetype": "text/x-python",
   "name": "python",
   "nbconvert_exporter": "python",
   "pygments_lexer": "ipython3",
   "version": "3.9.12"
  },
  "orig_nbformat": 4
 },
 "nbformat": 4,
 "nbformat_minor": 2
}
